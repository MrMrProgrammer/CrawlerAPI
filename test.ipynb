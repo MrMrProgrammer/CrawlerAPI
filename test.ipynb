{
 "cells": [
  {
   "cell_type": "code",
   "execution_count": 24,
   "metadata": {},
   "outputs": [],
   "source": [
    "from selenium import webdriver\n",
    "from selenium.webdriver.common.by import By\n",
    "from selenium.webdriver.chrome.service import Service as ChromeService\n",
    "from webdriver_manager.chrome import ChromeDriverManager\n",
    "from time import sleep"
   ]
  },
  {
   "cell_type": "code",
   "execution_count": 25,
   "metadata": {},
   "outputs": [],
   "source": [
    "driver = webdriver.Chrome(service=ChromeService(ChromeDriverManager().install()))\n",
    "driver.maximize_window()"
   ]
  },
  {
   "cell_type": "code",
   "execution_count": 15,
   "metadata": {},
   "outputs": [],
   "source": [
    "driver.get(\"https://tasree.ae/\")"
   ]
  },
  {
   "cell_type": "code",
   "execution_count": 22,
   "metadata": {},
   "outputs": [],
   "source": [
    "x = driver.find_elements(By., '//*[@id=\"main-box\"]/h4')"
   ]
  },
  {
   "cell_type": "code",
   "execution_count": 23,
   "metadata": {},
   "outputs": [
    {
     "data": {
      "text/plain": [
       "'At Tasree . . .'"
      ]
     },
     "execution_count": 23,
     "metadata": {},
     "output_type": "execute_result"
    }
   ],
   "source": [
    "x[0].text"
   ]
  },
  {
   "cell_type": "code",
   "execution_count": 26,
   "metadata": {},
   "outputs": [],
   "source": [
    "url = \"https://tasree.ae/\"\n",
    "ext_value = \"//*[@id='main-box']/h4\""
   ]
  },
  {
   "cell_type": "code",
   "execution_count": 29,
   "metadata": {},
   "outputs": [
    {
     "name": "stdout",
     "output_type": "stream",
     "text": [
      "At Tasree . . .\n"
     ]
    }
   ],
   "source": [
    "driver.get(url)\n",
    "\n",
    "x = driver.find_element(By.XPATH, ext_value)\n",
    "\n",
    "print(x.text)"
   ]
  },
  {
   "cell_type": "code",
   "execution_count": 30,
   "metadata": {},
   "outputs": [],
   "source": [
    "import requests"
   ]
  },
  {
   "cell_type": "code",
   "execution_count": 41,
   "metadata": {},
   "outputs": [
    {
     "name": "stdout",
     "output_type": "stream",
     "text": [
      "{\"detail\":[{\"type\":\"dict_type\",\"loc\":[\"body\"],\"msg\":\"Input should be a valid dictionary\",\"input\":\"urls=https%3A%2F%2Fwww.tabnak.ir&fields=name&fields=multi&fields=file&fields=ext_type&fields=ext_value\",\"url\":\"https://errors.pydantic.dev/2.4/v/dict_type\"}]}\n"
     ]
    }
   ],
   "source": [
    "url = 'http://127.0.0.1:8000/crawlin'\n",
    "data = {\n",
    "    \"urls\" : [\"https://www.tabnak.ir\"],\n",
    "    \"fields\" : [{\n",
    "            \"name\" : \"ali\",\n",
    "            \"multi\" : \"True\",\n",
    "            \"file\" : \"True\",\n",
    "            \"ext_type\" : \"CLASS_NAME\",\n",
    "            \"ext_value\" : \"title_main\"\n",
    "        }]\n",
    "}\n",
    "\n",
    "response = requests.post(url, data=data)\n",
    "\n",
    "print(response.text)\n"
   ]
  },
  {
   "cell_type": "code",
   "execution_count": 8,
   "metadata": {},
   "outputs": [],
   "source": [
    "import string    \n",
    "import random"
   ]
  },
  {
   "cell_type": "code",
   "execution_count": 9,
   "metadata": {},
   "outputs": [],
   "source": [
    "data = [\n",
    "    {\n",
    "        \"url\": \"https://www.tabnak.ir/fa/news/1220405\",\n",
    "        \"response\": [\n",
    "            {\n",
    "                \"name\": \"title\",\n",
    "                \"content\": [\n",
    "                    \"طلب اتوبوس مجانی از تولیدکنندگان داخلی همزمان با خرید میلیارد دلاری در چین!\"\n",
    "                ]\n",
    "            },\n",
    "            {\n",
    "                \"name\": \"short description\",\n",
    "                \"content\": \"تامین اتوبوس برای مدت طولانی در اولویت کاری مسئولان نبوده و حالا که اوضاع وخیم شده و آلودگی هوا هم شدت گرفته، تامین نسخه پاک و برقی، آن هم در زمانی کوتاه را در دستور کار قرار داده‌اند و آنقدر این مسیر را پرشتاب پی گرفته اند که حتی فراموش کرده اند پول سفارش ثبت شده را بپردازند! پولی که حالا قرار است چندین برابرش را به شیوه ارزی بپردازند!\"\n",
    "            }\n",
    "        ]\n",
    "    },\n",
    "    # {\n",
    "    #     \"url\": \"https://www.tabnak.ir/fa/news/1220397\",\n",
    "    #     \"response\": [\n",
    "    #         {\n",
    "    #             \"name\": \"title\",\n",
    "    #             \"content\": [\n",
    "    #                 \"کشته شدن ۳ آمریکایی و مجروح شدن ۱۴۳ تن در حملات نیروهای مقاومت/ نامه ایران به شورای امنیت درباره اتهامات آمریکا/ درخواست عراق برای ازسرگیری مذاکرات برای خروج نیروهای آمریکایی\"\n",
    "    #             ]\n",
    "    #         },\n",
    "    #         {\n",
    "    #             \"name\": \"short description\",\n",
    "    #             \"content\": \"کشته شدن ۳ آمریکایی و مجروح شدن ۱۴۳ تن در حملات نیرو‌های مقاومت، نامه ایران به شورای امنیت درباره اتهامات آمریکا، درخواست عراق برای ازسرگیری مذاکرات برای خروج نیرو‌های آمریکایی، رزمایش هوایی و دریایی آمریکا و ژاپن و برگزاری انتخابات زودهنگام در جمهوری آذربایجان، از مهم‌ترین خبر‌ها و رویداد‌های منطقه‌ای و بین المللی در ۲۴ ساعت گذشته بوده اند.\"\n",
    "    #         }\n",
    "    #     ]\n",
    "    # }\n",
    "]"
   ]
  },
  {
   "cell_type": "code",
   "execution_count": 18,
   "metadata": {},
   "outputs": [
    {
     "name": "stdout",
     "output_type": "stream",
     "text": [
      "[{'name': 'title', 'content': ['طلب اتوبوس مجانی از تولیدکنندگان داخلی همزمان با خرید میلیارد دلاری در چین!']}, {'name': 'short description', 'content': 'تامین اتوبوس برای مدت طولانی در اولویت کاری مسئولان نبوده و حالا که اوضاع وخیم شده و آلودگی هوا هم شدت گرفته، تامین نسخه پاک و برقی، آن هم در زمانی کوتاه را در دستور کار قرار داده\\u200cاند و آنقدر این مسیر را پرشتاب پی گرفته اند که حتی فراموش کرده اند پول سفارش ثبت شده را بپردازند! پولی که حالا قرار است چندین برابرش را به شیوه ارزی بپردازند!'}]\n"
     ]
    }
   ],
   "source": [
    "def create_csv(data):\n",
    "\n",
    "    # data = data[0]\n",
    "\n",
    "    for url in data:\n",
    "\n",
    "        filename = ''.join(random.choices(string.ascii_letters + string.digits, k = 10))\n",
    "\n",
    "        filename = \"outputs/output - \" + filename\n",
    "    \n",
    "        with open (filename, \"a\", newline = \"\") as csvfile:\n",
    "\n",
    "            \n",
    "\n",
    "            print(url[\"response\"])\n",
    "\n",
    "\n",
    "            # for i in url :\n",
    "            #     row_data = []\n",
    "            #     print(i)\n",
    "\n",
    "            # movies = csv.writer(csvfile)\n",
    "            # test_list1.append(data)\n",
    "            # movies.writerow(data)\n",
    "            # test_list1.clear()\n",
    "        \n",
    "        csvfile.close()\n",
    "\n",
    "\n",
    "create_csv(data)"
   ]
  }
 ],
 "metadata": {
  "kernelspec": {
   "display_name": "venv",
   "language": "python",
   "name": "python3"
  },
  "language_info": {
   "codemirror_mode": {
    "name": "ipython",
    "version": 3
   },
   "file_extension": ".py",
   "mimetype": "text/x-python",
   "name": "python",
   "nbconvert_exporter": "python",
   "pygments_lexer": "ipython3",
   "version": "3.10.12"
  }
 },
 "nbformat": 4,
 "nbformat_minor": 2
}
