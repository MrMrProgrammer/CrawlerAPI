{
 "cells": [
  {
   "cell_type": "code",
   "execution_count": 24,
   "metadata": {},
   "outputs": [],
   "source": [
    "from selenium import webdriver\n",
    "from selenium.webdriver.common.by import By\n",
    "from selenium.webdriver.chrome.service import Service as ChromeService\n",
    "from webdriver_manager.chrome import ChromeDriverManager\n",
    "from time import sleep"
   ]
  },
  {
   "cell_type": "code",
   "execution_count": 25,
   "metadata": {},
   "outputs": [],
   "source": [
    "driver = webdriver.Chrome(service=ChromeService(ChromeDriverManager().install()))\n",
    "driver.maximize_window()"
   ]
  },
  {
   "cell_type": "code",
   "execution_count": 15,
   "metadata": {},
   "outputs": [],
   "source": [
    "driver.get(\"https://tasree.ae/\")"
   ]
  },
  {
   "cell_type": "code",
   "execution_count": 22,
   "metadata": {},
   "outputs": [],
   "source": [
    "x = driver.find_elements(By., '//*[@id=\"main-box\"]/h4')"
   ]
  },
  {
   "cell_type": "code",
   "execution_count": 23,
   "metadata": {},
   "outputs": [
    {
     "data": {
      "text/plain": [
       "'At Tasree . . .'"
      ]
     },
     "execution_count": 23,
     "metadata": {},
     "output_type": "execute_result"
    }
   ],
   "source": [
    "x[0].text"
   ]
  },
  {
   "cell_type": "code",
   "execution_count": 26,
   "metadata": {},
   "outputs": [],
   "source": [
    "url = \"https://tasree.ae/\"\n",
    "ext_value = \"//*[@id='main-box']/h4\""
   ]
  },
  {
   "cell_type": "code",
   "execution_count": 29,
   "metadata": {},
   "outputs": [
    {
     "name": "stdout",
     "output_type": "stream",
     "text": [
      "At Tasree . . .\n"
     ]
    }
   ],
   "source": [
    "driver.get(url)\n",
    "\n",
    "x = driver.find_element(By.XPATH, ext_value)\n",
    "\n",
    "print(x.text)"
   ]
  },
  {
   "cell_type": "code",
   "execution_count": 30,
   "metadata": {},
   "outputs": [],
   "source": [
    "import requests"
   ]
  },
  {
   "cell_type": "code",
   "execution_count": 41,
   "metadata": {},
   "outputs": [
    {
     "name": "stdout",
     "output_type": "stream",
     "text": [
      "{\"detail\":[{\"type\":\"dict_type\",\"loc\":[\"body\"],\"msg\":\"Input should be a valid dictionary\",\"input\":\"urls=https%3A%2F%2Fwww.tabnak.ir&fields=name&fields=multi&fields=file&fields=ext_type&fields=ext_value\",\"url\":\"https://errors.pydantic.dev/2.4/v/dict_type\"}]}\n"
     ]
    }
   ],
   "source": [
    "url = 'http://127.0.0.1:8000/crawlin'\n",
    "data = {\n",
    "    \"urls\" : [\"https://www.tabnak.ir\"],\n",
    "    \"fields\" : [{\n",
    "            \"name\" : \"ali\",\n",
    "            \"multi\" : \"True\",\n",
    "            \"file\" : \"True\",\n",
    "            \"ext_type\" : \"CLASS_NAME\",\n",
    "            \"ext_value\" : \"title_main\"\n",
    "        }]\n",
    "}\n",
    "\n",
    "response = requests.post(url, data=data)\n",
    "\n",
    "print(response.text)\n"
   ]
  },
  {
   "cell_type": "code",
   "execution_count": 8,
   "metadata": {},
   "outputs": [],
   "source": [
    "import string    \n",
    "import random"
   ]
  },
  {
   "cell_type": "code",
   "execution_count": 9,
   "metadata": {},
   "outputs": [],
   "source": [
    "data = [\n",
    "    {\n",
    "        \"url\": \"https://www.tabnak.ir/fa/news/1220405\",\n",
    "        \"response\": [\n",
    "            {\n",
    "                \"name\": \"title\",\n",
    "                \"content\": [\n",
    "                    \"طلب اتوبوس مجانی از تولیدکنندگان داخلی همزمان با خرید میلیارد دلاری در چین!\"\n",
    "                ]\n",
    "            },\n",
    "            {\n",
    "                \"name\": \"short description\",\n",
    "                \"content\": \"تامین اتوبوس برای مدت طولانی در اولویت کاری مسئولان نبوده و حالا که اوضاع وخیم شده و آلودگی هوا هم شدت گرفته، تامین نسخه پاک و برقی، آن هم در زمانی کوتاه را در دستور کار قرار داده‌اند و آنقدر این مسیر را پرشتاب پی گرفته اند که حتی فراموش کرده اند پول سفارش ثبت شده را بپردازند! پولی که حالا قرار است چندین برابرش را به شیوه ارزی بپردازند!\"\n",
    "            }\n",
    "        ]\n",
    "    },\n",
    "    # {\n",
    "    #     \"url\": \"https://www.tabnak.ir/fa/news/1220397\",\n",
    "    #     \"response\": [\n",
    "    #         {\n",
    "    #             \"name\": \"title\",\n",
    "    #             \"content\": [\n",
    "    #                 \"کشته شدن ۳ آمریکایی و مجروح شدن ۱۴۳ تن در حملات نیروهای مقاومت/ نامه ایران به شورای امنیت درباره اتهامات آمریکا/ درخواست عراق برای ازسرگیری مذاکرات برای خروج نیروهای آمریکایی\"\n",
    "    #             ]\n",
    "    #         },\n",
    "    #         {\n",
    "    #             \"name\": \"short description\",\n",
    "    #             \"content\": \"کشته شدن ۳ آمریکایی و مجروح شدن ۱۴۳ تن در حملات نیرو‌های مقاومت، نامه ایران به شورای امنیت درباره اتهامات آمریکا، درخواست عراق برای ازسرگیری مذاکرات برای خروج نیرو‌های آمریکایی، رزمایش هوایی و دریایی آمریکا و ژاپن و برگزاری انتخابات زودهنگام در جمهوری آذربایجان، از مهم‌ترین خبر‌ها و رویداد‌های منطقه‌ای و بین المللی در ۲۴ ساعت گذشته بوده اند.\"\n",
    "    #         }\n",
    "    #     ]\n",
    "    # }\n",
    "]"
   ]
  },
  {
   "cell_type": "code",
   "execution_count": 18,
   "metadata": {},
   "outputs": [
    {
     "name": "stdout",
     "output_type": "stream",
     "text": [
      "[{'name': 'title', 'content': ['طلب اتوبوس مجانی از تولیدکنندگان داخلی همزمان با خرید میلیارد دلاری در چین!']}, {'name': 'short description', 'content': 'تامین اتوبوس برای مدت طولانی در اولویت کاری مسئولان نبوده و حالا که اوضاع وخیم شده و آلودگی هوا هم شدت گرفته، تامین نسخه پاک و برقی، آن هم در زمانی کوتاه را در دستور کار قرار داده\\u200cاند و آنقدر این مسیر را پرشتاب پی گرفته اند که حتی فراموش کرده اند پول سفارش ثبت شده را بپردازند! پولی که حالا قرار است چندین برابرش را به شیوه ارزی بپردازند!'}]\n"
     ]
    }
   ],
   "source": [
    "def create_csv(data):\n",
    "\n",
    "    # data = data[0]\n",
    "\n",
    "    for url in data:\n",
    "\n",
    "        filename = ''.join(random.choices(string.ascii_letters + string.digits, k = 10))\n",
    "\n",
    "        filename = \"outputs/output - \" + filename\n",
    "    \n",
    "        with open (filename, \"a\", newline = \"\") as csvfile:\n",
    "\n",
    "            \n",
    "\n",
    "            print(url[\"response\"])\n",
    "\n",
    "\n",
    "            # for i in url :\n",
    "            #     row_data = []\n",
    "            #     print(i)\n",
    "\n",
    "            # movies = csv.writer(csvfile)\n",
    "            # test_list1.append(data)\n",
    "            # movies.writerow(data)\n",
    "            # test_list1.clear()\n",
    "        \n",
    "        csvfile.close()\n",
    "\n",
    "\n",
    "create_csv(data)"
   ]
  },
  {
   "cell_type": "code",
   "execution_count": 2,
   "metadata": {},
   "outputs": [
    {
     "name": "stdout",
     "output_type": "stream",
     "text": [
      "['tasree', 'Tasree', 'Tasree', 'Tasree', 'tasree']\n"
     ]
    }
   ],
   "source": [
    "import re\n",
    "\n",
    "# متن HTML را به عنوان متغیر ذخیره کنید\n",
    "html_text = \"\"\"\n",
    "\n",
    "\n",
    "\n",
    "<!DOCTYPE html>\n",
    "<html>\n",
    "\n",
    "    <head>\n",
    "\n",
    "        <link rel=\"icon\" type=\"image/x-icon\" href=\"/photos/thumbnail/Android.png\">\n",
    "\n",
    "        <script src=\"https://cdn.jsdelivr.net/npm/jquery@3.6.4/dist/jquery.slim.min.js\"></script>\n",
    "        <script src=\"https://cdn.jsdelivr.net/npm/popper.js@1.16.1/dist/umd/popper.min.js\"></script>\n",
    "        <script src=\"https://cdn.jsdelivr.net/npm/bootstrap@4.6.2/dist/js/bootstrap.bundle.min.js\"></script>\n",
    "\n",
    "        <meta charset=\"UTF-8\">\n",
    "        <meta name=\"viewport\" content=\"width=device-width, initial-scale=1, shrink-to-fit=no\">\n",
    "        <title>\n",
    "            HOME\n",
    "        </title>\n",
    "\n",
    "        <link rel=\"stylesheet\" href=\"/static/css/base/bootstrap.css\">\n",
    "        <link rel=\"stylesheet\" href=\"/static/css/base/base-style.css\">\n",
    "\n",
    "        \n",
    "\n",
    "    </head>\n",
    "\n",
    "    <body>\n",
    "\n",
    "    <div class=\"container-fluid\">\n",
    "\n",
    "        <br/>\n",
    "        <hr/>\n",
    "\n",
    "        <div class=\"row\">\n",
    "\n",
    "            <div class=\"col-md-2\"></div>\n",
    "\n",
    "            <div class=\"col-md-2\">\n",
    "                <img id=\"logo\" src=\"/photos/header_logo/Black_logo_-_no_background.png\"/>\n",
    "                \n",
    "            </div>\n",
    "            <div class=\"col-md-2\"></div>\n",
    "            <div class=\"col-md-2\">\n",
    "                <div class=\"row\">\n",
    "\n",
    "                    <div class=\"col-2\">\n",
    "                        <img id=\"phone-icon\" src=\"/static/image/telephone-handle-silhouette.png\">\n",
    "                    </div>\n",
    "\n",
    "                    <div class=\"col-10\">\n",
    "                        <p>+971 (50) 866-1133</p>\n",
    "                        <p>info@tasree.ae</p>\n",
    "\n",
    "                    </div>\n",
    "\n",
    "                </div>\n",
    "            </div>\n",
    "\n",
    "            <div class=\"col-md-2\">\n",
    "                <div class=\"row\">\n",
    "\n",
    "                    <div class=\"col-2\">\n",
    "                        <img id=\"phone-icon\" src=\"/static/image/map.png\">\n",
    "                    </div>\n",
    "\n",
    "                    <div class=\"col-10\">\n",
    "                        <p>Dubai, UAE Sobha Hartland Nad Al Shaba</p>\n",
    "                    </div>\n",
    "\n",
    "                </div>\n",
    "            </div>\n",
    "\n",
    "            <div class=\"col-md-2\"></div>\n",
    "\n",
    "        </div>\n",
    "\n",
    "        <hr/>\n",
    "\n",
    "        <div class=\"row text-center\">\n",
    "            <div class=\"col-1\"></div>\n",
    "            <div class=\"col-10 text-center\">\n",
    "                <div class=\"menu-container\">\n",
    "                    <nav class=\"navbar navbar-expand-lg navbar-light bg-light\">\n",
    "\n",
    "                    <button class=\"navbar-toggler\" type=\"button\" data-toggle=\"collapse\" data-target=\"#navbarNavAltMarkup\" aria-controls=\"navbarNavAltMarkup\" aria-expanded=\"false\" aria-label=\"Toggle navigation\">\n",
    "                        <span class=\"navbar-toggler-icon\"></span>\n",
    "                    </button>\n",
    "\n",
    "                    <div class=\"collapse navbar-collapse\" id=\"navbarNavAltMarkup\">\n",
    "                        <div class=\"navbar-nav\">\n",
    "                            <a class=\"nav-link\" href=\"/\">HOME</a>\n",
    "                            <a class=\"nav-link\" href=\"/ABOUT-US\">ABOUT US</a>\n",
    "                            <a class=\"nav-link\" href=\"/OUR-SERVICES\">OUR SERVICES</a>\n",
    "                        </div>\n",
    "                    </div>\n",
    "                </nav>\n",
    "                </div>\n",
    "            </div>\n",
    "            <div class=\"col-1\"></div>\n",
    "\n",
    "        </div>\n",
    "\n",
    "        <hr/>\n",
    "\n",
    "        <div class=\"row\">\n",
    "            <div class=\"col-12\">\n",
    "                <div id=\"mySlider\" class=\"carousel slide\" data-ride=\"carousel\">\n",
    "                    <!-- Indicators -->\n",
    "                    <ul class=\"carousel-indicators\">\n",
    "                        <li data-target=\"#mySlider\" data-slide-to=\"0\" class=\"active\"></li>\n",
    "                        <li data-target=\"#mySlider\" data-slide-to=\"1\"></li>\n",
    "                        <li data-target=\"#mySlider\" data-slide-to=\"2\"></li>\n",
    "                        <li data-target=\"#mySlider\" data-slide-to=\"3\"></li>\n",
    "                    </ul>\n",
    "\n",
    "                    <!-- Slides -->\n",
    "                    <div class=\"carousel-inner\">\n",
    "                        \n",
    "    \n",
    "        <div class=\"carousel-item active bd-container-inner-wrapper\">\n",
    "            <img style=\"object-fit: cover;\" width=\"1829px\" height=\"445px\" src=\"/photos/slider/jpeg-optimizer_04.jpeg\" alt=\"Image 1\">\n",
    "        </div>\n",
    "    \n",
    "        <div class=\"carousel-item  bd-container-inner-wrapper\">\n",
    "            <img style=\"object-fit: cover;\" width=\"1829px\" height=\"445px\" src=\"/photos/slider/jpeg-optimizer_01_kAODmh9.jpeg\" alt=\"Image 1\">\n",
    "        </div>\n",
    "    \n",
    "        <div class=\"carousel-item  bd-container-inner-wrapper\">\n",
    "            <img style=\"object-fit: cover;\" width=\"1829px\" height=\"445px\" src=\"/photos/slider/jpeg-optimizer_02_sph4u6O.jpeg\" alt=\"Image 1\">\n",
    "        </div>\n",
    "    \n",
    "        <div class=\"carousel-item  bd-container-inner-wrapper\">\n",
    "            <img style=\"object-fit: cover;\" width=\"1829px\" height=\"445px\" src=\"/photos/slider/jpeg-optimizer_03_p4zAERy.jpeg\" alt=\"Image 1\">\n",
    "        </div>\n",
    "    \n",
    "\n",
    "                    </div>\n",
    "\n",
    "                    <!-- Controls -->\n",
    "                    <a class=\"carousel-control-prev\" href=\"#mySlider\" role=\"button\" data-slide=\"prev\">\n",
    "                        <span class=\"carousel-control-prev-icon\" aria-hidden=\"true\"></span>\n",
    "                        <span class=\"sr-only\">Previous</span>\n",
    "                    </a>\n",
    "\n",
    "                    <a class=\"carousel-control-next\" href=\"#mySlider\" role=\"button\" data-slide=\"next\">\n",
    "                        <span class=\"carousel-control-next-icon\" aria-hidden=\"true\"></span>\n",
    "                        <span class=\"sr-only\">Next</span>\n",
    "                    </a>\n",
    "                </div>\n",
    "            </div>\n",
    "        </div>\n",
    "\n",
    "        <br/>\n",
    "\n",
    "        \n",
    "\n",
    "    <div class=\"row\">\n",
    "        <div class=\"col-md-2\"></div>\n",
    "\n",
    "        <div class=\"col-md-2\">\n",
    "            <div class=\"row\">\n",
    "                <div class=\"col-12\">\n",
    "                    <p id=\"contact-us-header\">CONTACT US!</p>\n",
    "                </div>\n",
    "            </div>\n",
    "\n",
    "            <div class=\"row text-center\">\n",
    "                <div class=\"col-12\">\n",
    "                    <div class=\"contact-us-box\">\n",
    "\n",
    "                        <form method=\"post\" action=\"/\">\n",
    "                            <input type=\"hidden\" name=\"csrfmiddlewaretoken\" value=\"8wlTiGlSUfPSuccsxoK56AXcCcTVWmwkyU9XRoUaND0NvqlVc0IdRbI6kOuPpk1T\">\n",
    "\n",
    "                            <input type=\"text\" name=\"name\" class=\"form-control\" placeholder=\"Name\" required id=\"id_name\">\n",
    "                            \n",
    "\n",
    "                            <br/>\n",
    "\n",
    "                            <input type=\"email\" name=\"email\" class=\"form-control\" placeholder=\"Email\" maxlength=\"320\" required id=\"id_email\">\n",
    "                            \n",
    "\n",
    "                            <br/>\n",
    "                            <textarea name=\"message\" cols=\"40\" rows=\"10\" class=\"form-control\" placeholder=\"Plase include as much detail as possible.\" required id=\"id_message\">\n",
    "</textarea>\n",
    "                            \n",
    "\n",
    "\n",
    "\n",
    "                            <br/>\n",
    "\n",
    "                            <button class=\"btn btn-secondary\" type=\"submit\">Send</button>\n",
    "                        </form>\n",
    "\n",
    "                    </div>\n",
    "                </div>\n",
    "\n",
    "            </div>\n",
    "        </div>\n",
    "\n",
    "        <div class=\"col-md-6\">\n",
    "\n",
    "            <div id=\"main-box\">\n",
    "\n",
    "                <br/>\n",
    "\n",
    "                \n",
    "                    <h4 style=\"text-align: center;\">At Tasree . . .</h4>\n",
    "                \n",
    "\n",
    "                <br/>\n",
    "\n",
    "                \n",
    "                    <p style=\"text-align: justify;\">At Tasree, Our innovative Paperless valet service is design to enhance guest services, increasing revenue for your business and promote sustainability-all while eliminating the waiting time.</p>\n",
    "                \n",
    "\n",
    "                <br/>\n",
    "\n",
    "                \n",
    "\n",
    "                <br/>\n",
    "\n",
    "                \n",
    "                    <p style=\"text-align: justify;\">committed for develirying Exceptional guest experiencing While prioritizing , we are delighted to serve you as best industry solution.</p>\n",
    "                \n",
    "\n",
    "                <br/>\n",
    "\n",
    "                \n",
    "\n",
    "                <br/>\n",
    "\n",
    "                \n",
    "                    <p style=\"text-align: justify;\">I love Tasree because their leaders are progressive, and they always want to satisfy my needs.</p>\n",
    "                \n",
    "\n",
    "                <br/>\n",
    "\n",
    "            </div>\n",
    "        </div>\n",
    "\n",
    "        <div class=\"col-md-2\"></div>\n",
    "\n",
    "    </div>\n",
    "\n",
    "\n",
    "\n",
    "        <br/>\n",
    "\n",
    "        <div class=\"row\">\n",
    "            <div class=\"col-12\">\n",
    "                <div id=\"footer\">\n",
    "                    <p>tasree.ae</p>\n",
    "\n",
    "                </div>\n",
    "            </div>\n",
    "        </div>\n",
    "\n",
    "\n",
    "    </div>\n",
    "\n",
    "    <script src=\"https://cdn.jsdelivr.net/npm/jquery@3.6.4/dist/jquery.slim.min.js\"></script>\n",
    "    <script src=\"https://cdn.jsdelivr.net/npm/popper.js@1.16.1/dist/umd/popper.min.js\"></script>\n",
    "    <script src=\"https://cdn.jsdelivr.net/npm/bootstrap@4.6.2/dist/js/bootstrap.bundle.min.js\"></script>\n",
    "\n",
    "    </body>\n",
    "\n",
    "</html>\n",
    "\"\"\"\n",
    "\n",
    "pattern = r'Tasree'\n",
    "\n",
    "matches = re.findall(pattern, html_text, re.IGNORECASE)\n",
    "\n",
    "print(matches)\n"
   ]
  },
  {
   "cell_type": "code",
   "execution_count": 3,
   "metadata": {},
   "outputs": [],
   "source": [
    "source = \"<html><head>\\n\\n        <link rel=\\\"icon\\\" type=\\\"image/x-icon\\\" href=\\\"/photos/thumbnail/Android.png\\\">\\n\\n        <script src=\\\"https://cdn.jsdelivr.net/npm/jquery@3.6.4/dist/jquery.slim.min.js\\\"></script>\\n        <script src=\\\"https://cdn.jsdelivr.net/npm/popper.js@1.16.1/dist/umd/popper.min.js\\\"></script>\\n        <script src=\\\"https://cdn.jsdelivr.net/npm/bootstrap@4.6.2/dist/js/bootstrap.bundle.min.js\\\"></script>\\n\\n        <meta charset=\\\"UTF-8\\\">\\n        <meta name=\\\"viewport\\\" content=\\\"width=device-width, initial-scale=1, shrink-to-fit=no\\\">\\n        <title>\\n            HOME\\n        </title>\\n\\n        <link rel=\\\"stylesheet\\\" href=\\\"/static/css/base/bootstrap.css\\\">\\n        <link rel=\\\"stylesheet\\\" href=\\\"/static/css/base/base-style.css\\\">\\n\\n        \\n\\n    </head>\\n\\n    <body>\\n\\n    <div class=\\\"container-fluid\\\">\\n\\n        <br>\\n        <hr>\\n\\n        <div class=\\\"row\\\">\\n\\n            <div class=\\\"col-md-2\\\"></div>\\n\\n            <div class=\\\"col-md-2\\\">\\n                <img id=\\\"logo\\\" src=\\\"/photos/header_logo/Black_logo_-_no_background.png\\\">\\n                \\n            </div>\\n            <div class=\\\"col-md-2\\\"></div>\\n            <div class=\\\"col-md-2\\\">\\n                <div class=\\\"row\\\">\\n\\n                    <div class=\\\"col-2\\\">\\n                        <img id=\\\"phone-icon\\\" src=\\\"/static/image/telephone-handle-silhouette.png\\\">\\n                    </div>\\n\\n                    <div class=\\\"col-10\\\">\\n                        <p>+971 (50) 866-1133</p>\\n                        <p>info@tasree.ae</p>\\n\\n                    </div>\\n\\n                </div>\\n            </div>\\n\\n            <div class=\\\"col-md-2\\\">\\n                <div class=\\\"row\\\">\\n\\n                    <div class=\\\"col-2\\\">\\n                        <img id=\\\"phone-icon\\\" src=\\\"/static/image/map.png\\\">\\n                    </div>\\n\\n                    <div class=\\\"col-10\\\">\\n                        <p>Dubai, UAE Sobha Hartland Nad Al Shaba</p>\\n                    </div>\\n\\n                </div>\\n            </div>\\n\\n            <div class=\\\"col-md-2\\\"></div>\\n\\n        </div>\\n\\n        <hr>\\n\\n        <div class=\\\"row text-center\\\">\\n            <div class=\\\"col-1\\\"></div>\\n            <div class=\\\"col-10 text-center\\\">\\n                <div class=\\\"menu-container\\\">\\n                    <nav class=\\\"navbar navbar-expand-lg navbar-light bg-light\\\">\\n\\n                    <button class=\\\"navbar-toggler\\\" type=\\\"button\\\" data-toggle=\\\"collapse\\\" data-target=\\\"#navbarNavAltMarkup\\\" aria-controls=\\\"navbarNavAltMarkup\\\" aria-expanded=\\\"false\\\" aria-label=\\\"Toggle navigation\\\">\\n                        <span class=\\\"navbar-toggler-icon\\\"></span>\\n                    </button>\\n\\n                    <div class=\\\"collapse navbar-collapse\\\" id=\\\"navbarNavAltMarkup\\\">\\n                        <div class=\\\"navbar-nav\\\">\\n                            <a class=\\\"nav-link\\\" href=\\\"/\\\">HOME</a>\\n                            <a class=\\\"nav-link\\\" href=\\\"/ABOUT-US\\\">ABOUT US</a>\\n                            <a class=\\\"nav-link\\\" href=\\\"/OUR-SERVICES\\\">OUR SERVICES</a>\\n                        </div>\\n                    </div>\\n                </nav>\\n                </div>\\n            </div>\\n            <div class=\\\"col-1\\\"></div>\\n\\n        </div>\\n\\n        <hr>\\n\\n        <div class=\\\"row\\\">\\n            <div class=\\\"col-12\\\">\\n                <div id=\\\"mySlider\\\" class=\\\"carousel slide\\\" data-ride=\\\"carousel\\\">\\n                    <!-- Indicators -->\\n                    <ul class=\\\"carousel-indicators\\\">\\n                        <li data-target=\\\"#mySlider\\\" data-slide-to=\\\"0\\\" class=\\\"active\\\"></li>\\n                        <li data-target=\\\"#mySlider\\\" data-slide-to=\\\"1\\\"></li>\\n                        <li data-target=\\\"#mySlider\\\" data-slide-to=\\\"2\\\"></li>\\n                        <li data-target=\\\"#mySlider\\\" data-slide-to=\\\"3\\\"></li>\\n                    </ul>\\n\\n                    <!-- Slides -->\\n                    <div class=\\\"carousel-inner\\\">\\n                        \\n    \\n        <div class=\\\"carousel-item active bd-container-inner-wrapper\\\">\\n            <img style=\\\"object-fit: cover;\\\" width=\\\"1829px\\\" height=\\\"445px\\\" src=\\\"/photos/slider/jpeg-optimizer_04.jpeg\\\" alt=\\\"Image 1\\\">\\n        </div>\\n    \\n        <div class=\\\"carousel-item  bd-container-inner-wrapper\\\">\\n            <img style=\\\"object-fit: cover;\\\" width=\\\"1829px\\\" height=\\\"445px\\\" src=\\\"/photos/slider/jpeg-optimizer_01_kAODmh9.jpeg\\\" alt=\\\"Image 1\\\">\\n        </div>\\n    \\n        <div class=\\\"carousel-item  bd-container-inner-wrapper\\\">\\n            <img style=\\\"object-fit: cover;\\\" width=\\\"1829px\\\" height=\\\"445px\\\" src=\\\"/photos/slider/jpeg-optimizer_02_sph4u6O.jpeg\\\" alt=\\\"Image 1\\\">\\n        </div>\\n    \\n        <div class=\\\"carousel-item  bd-container-inner-wrapper\\\">\\n            <img style=\\\"object-fit: cover;\\\" width=\\\"1829px\\\" height=\\\"445px\\\" src=\\\"/photos/slider/jpeg-optimizer_03_p4zAERy.jpeg\\\" alt=\\\"Image 1\\\">\\n        </div>\\n    \\n\\n                    </div>\\n\\n                    <!-- Controls -->\\n                    <a class=\\\"carousel-control-prev\\\" href=\\\"#mySlider\\\" role=\\\"button\\\" data-slide=\\\"prev\\\">\\n                        <span class=\\\"carousel-control-prev-icon\\\" aria-hidden=\\\"true\\\"></span>\\n                        <span class=\\\"sr-only\\\">Previous</span>\\n                    </a>\\n\\n                    <a class=\\\"carousel-control-next\\\" href=\\\"#mySlider\\\" role=\\\"button\\\" data-slide=\\\"next\\\">\\n                        <span class=\\\"carousel-control-next-icon\\\" aria-hidden=\\\"true\\\"></span>\\n                        <span class=\\\"sr-only\\\">Next</span>\\n                    </a>\\n                </div>\\n            </div>\\n        </div>\\n\\n        <br>\\n\\n        \\n\\n    <div class=\\\"row\\\">\\n        <div class=\\\"col-md-2\\\"></div>\\n\\n        <div class=\\\"col-md-2\\\">\\n            <div class=\\\"row\\\">\\n                <div class=\\\"col-12\\\">\\n                    <p id=\\\"contact-us-header\\\">CONTACT US!</p>\\n                </div>\\n            </div>\\n\\n            <div class=\\\"row text-center\\\">\\n                <div class=\\\"col-12\\\">\\n                    <div class=\\\"contact-us-box\\\">\\n\\n                        <form method=\\\"post\\\" action=\\\"/\\\">\\n                            <input type=\\\"hidden\\\" name=\\\"csrfmiddlewaretoken\\\" value=\\\"uKokd6WdRiNhzk8ckJBFDSm2RKLsLV4m3wdnUYhy4w0IFQkWRup6eo3DV37Atf7y\\\">\\n\\n                            <input type=\\\"text\\\" name=\\\"name\\\" class=\\\"form-control\\\" placeholder=\\\"Name\\\" required=\\\"\\\" id=\\\"id_name\\\">\\n                            \\n\\n                            <br>\\n\\n                            <input type=\\\"email\\\" name=\\\"email\\\" class=\\\"form-control\\\" placeholder=\\\"Email\\\" maxlength=\\\"320\\\" required=\\\"\\\" id=\\\"id_email\\\">\\n                            \\n\\n                            <br>\\n                            <textarea name=\\\"message\\\" cols=\\\"40\\\" rows=\\\"10\\\" class=\\\"form-control\\\" placeholder=\\\"Plase include as much detail as possible.\\\" required=\\\"\\\" id=\\\"id_message\\\"></textarea>\\n                            \\n\\n\\n\\n                            <br>\\n\\n                            <button class=\\\"btn btn-secondary\\\" type=\\\"submit\\\">Send</button>\\n                        </form>\\n\\n                    </div>\\n                </div>\\n\\n            </div>\\n        </div>\\n\\n        <div class=\\\"col-md-6\\\">\\n\\n            <div id=\\\"main-box\\\">\\n\\n                <br>\\n\\n                \\n                    <h4 style=\\\"text-align: center;\\\">At Tasree . . .</h4>\\n                \\n\\n                <br>\\n\\n                \\n                    <p style=\\\"text-align: justify;\\\">At Tasree, Our innovative Paperless valet service is design to enhance guest services, increasing revenue for your business and promote sustainability-all while eliminating the waiting time.</p>\\n                \\n\\n                <br>\\n\\n                \\n\\n                <br>\\n\\n                \\n                    <p style=\\\"text-align: justify;\\\">committed for develirying Exceptional guest experiencing While prioritizing , we are delighted to serve you as best industry solution.</p>\\n                \\n\\n                <br>\\n\\n                \\n\\n                <br>\\n\\n                \\n                    <p style=\\\"text-align: justify;\\\">I love Tasree because their leaders are progressive, and they always want to satisfy my needs.</p>\\n                \\n\\n                <br>\\n\\n            </div>\\n        </div>\\n\\n        <div class=\\\"col-md-2\\\"></div>\\n\\n    </div>\\n\\n\\n\\n        <br>\\n\\n        <div class=\\\"row\\\">\\n            <div class=\\\"col-12\\\">\\n                <div id=\\\"footer\\\">\\n                    <p>tasree.ae</p>\\n\\n                </div>\\n            </div>\\n        </div>\\n\\n\\n    </div>\\n\\n    <script src=\\\"https://cdn.jsdelivr.net/npm/jquery@3.6.4/dist/jquery.slim.min.js\\\"></script>\\n    <script src=\\\"https://cdn.jsdelivr.net/npm/popper.js@1.16.1/dist/umd/popper.min.js\\\"></script>\\n    <script src=\\\"https://cdn.jsdelivr.net/npm/bootstrap@4.6.2/dist/js/bootstrap.bundle.min.js\\\"></script>\\n\\n    \\n\\n</body></html>\""
   ]
  },
  {
   "cell_type": "code",
   "execution_count": 15,
   "metadata": {},
   "outputs": [],
   "source": [
    "pattern = \"r'Tasree'\""
   ]
  },
  {
   "cell_type": "code",
   "execution_count": 16,
   "metadata": {},
   "outputs": [
    {
     "data": {
      "text/plain": [
       "\"r'Tasree'\""
      ]
     },
     "execution_count": 16,
     "metadata": {},
     "output_type": "execute_result"
    }
   ],
   "source": [
    "pattern"
   ]
  },
  {
   "cell_type": "code",
   "execution_count": 18,
   "metadata": {},
   "outputs": [
    {
     "data": {
      "text/plain": [
       "\"'Tasre\""
      ]
     },
     "execution_count": 18,
     "metadata": {},
     "output_type": "execute_result"
    }
   ],
   "source": [
    "pattern = pattern[1:len(pattern)-1]\n",
    "pattern"
   ]
  },
  {
   "cell_type": "code",
   "execution_count": 31,
   "metadata": {},
   "outputs": [
    {
     "data": {
      "text/plain": [
       "['tasree', 'Tasree', 'Tasree', 'Tasree', 'tasree']"
      ]
     },
     "execution_count": 31,
     "metadata": {},
     "output_type": "execute_result"
    }
   ],
   "source": [
    "matches = re.findall(r'Tasree', source, re.IGNORECASE)\n",
    "matches"
   ]
  },
  {
   "cell_type": "code",
   "execution_count": 32,
   "metadata": {},
   "outputs": [
    {
     "data": {
      "text/plain": [
       "'<html><head>\\n\\n        <link rel=\"icon\" type=\"image/x-icon\" href=\"/photos/thumbnail/Android.png\">\\n\\n        <script src=\"https://cdn.jsdelivr.net/npm/jquery@3.6.4/dist/jquery.slim.min.js\"></script>\\n        <script src=\"https://cdn.jsdelivr.net/npm/popper.js@1.16.1/dist/umd/popper.min.js\"></script>\\n        <script src=\"https://cdn.jsdelivr.net/npm/bootstrap@4.6.2/dist/js/bootstrap.bundle.min.js\"></script>\\n\\n        <meta charset=\"UTF-8\">\\n        <meta name=\"viewport\" content=\"width=device-width, initial-scale=1, shrink-to-fit=no\">\\n        <title>\\n            HOME\\n        </title>\\n\\n        <link rel=\"stylesheet\" href=\"/static/css/base/bootstrap.css\">\\n        <link rel=\"stylesheet\" href=\"/static/css/base/base-style.css\">\\n\\n        \\n\\n    </head>\\n\\n    <body>\\n\\n    <div class=\"container-fluid\">\\n\\n        <br>\\n        <hr>\\n\\n        <div class=\"row\">\\n\\n            <div class=\"col-md-2\"></div>\\n\\n            <div class=\"col-md-2\">\\n                <img id=\"logo\" src=\"/photos/header_logo/Black_logo_-_no_background.png\">\\n                \\n            </div>\\n            <div class=\"col-md-2\"></div>\\n            <div class=\"col-md-2\">\\n                <div class=\"row\">\\n\\n                    <div class=\"col-2\">\\n                        <img id=\"phone-icon\" src=\"/static/image/telephone-handle-silhouette.png\">\\n                    </div>\\n\\n                    <div class=\"col-10\">\\n                        <p>+971 (50) 866-1133</p>\\n                        <p>info@tasree.ae</p>\\n\\n                    </div>\\n\\n                </div>\\n            </div>\\n\\n            <div class=\"col-md-2\">\\n                <div class=\"row\">\\n\\n                    <div class=\"col-2\">\\n                        <img id=\"phone-icon\" src=\"/static/image/map.png\">\\n                    </div>\\n\\n                    <div class=\"col-10\">\\n                        <p>Dubai, UAE Sobha Hartland Nad Al Shaba</p>\\n                    </div>\\n\\n                </div>\\n            </div>\\n\\n            <div class=\"col-md-2\"></div>\\n\\n        </div>\\n\\n        <hr>\\n\\n        <div class=\"row text-center\">\\n            <div class=\"col-1\"></div>\\n            <div class=\"col-10 text-center\">\\n                <div class=\"menu-container\">\\n                    <nav class=\"navbar navbar-expand-lg navbar-light bg-light\">\\n\\n                    <button class=\"navbar-toggler\" type=\"button\" data-toggle=\"collapse\" data-target=\"#navbarNavAltMarkup\" aria-controls=\"navbarNavAltMarkup\" aria-expanded=\"false\" aria-label=\"Toggle navigation\">\\n                        <span class=\"navbar-toggler-icon\"></span>\\n                    </button>\\n\\n                    <div class=\"collapse navbar-collapse\" id=\"navbarNavAltMarkup\">\\n                        <div class=\"navbar-nav\">\\n                            <a class=\"nav-link\" href=\"/\">HOME</a>\\n                            <a class=\"nav-link\" href=\"/ABOUT-US\">ABOUT US</a>\\n                            <a class=\"nav-link\" href=\"/OUR-SERVICES\">OUR SERVICES</a>\\n                        </div>\\n                    </div>\\n                </nav>\\n                </div>\\n            </div>\\n            <div class=\"col-1\"></div>\\n\\n        </div>\\n\\n        <hr>\\n\\n        <div class=\"row\">\\n            <div class=\"col-12\">\\n                <div id=\"mySlider\" class=\"carousel slide\" data-ride=\"carousel\">\\n                    <!-- Indicators -->\\n                    <ul class=\"carousel-indicators\">\\n                        <li data-target=\"#mySlider\" data-slide-to=\"0\" class=\"active\"></li>\\n                        <li data-target=\"#mySlider\" data-slide-to=\"1\"></li>\\n                        <li data-target=\"#mySlider\" data-slide-to=\"2\"></li>\\n                        <li data-target=\"#mySlider\" data-slide-to=\"3\"></li>\\n                    </ul>\\n\\n                    <!-- Slides -->\\n                    <div class=\"carousel-inner\">\\n                        \\n    \\n        <div class=\"carousel-item active bd-container-inner-wrapper\">\\n            <img style=\"object-fit: cover;\" width=\"1829px\" height=\"445px\" src=\"/photos/slider/jpeg-optimizer_04.jpeg\" alt=\"Image 1\">\\n        </div>\\n    \\n        <div class=\"carousel-item  bd-container-inner-wrapper\">\\n            <img style=\"object-fit: cover;\" width=\"1829px\" height=\"445px\" src=\"/photos/slider/jpeg-optimizer_01_kAODmh9.jpeg\" alt=\"Image 1\">\\n        </div>\\n    \\n        <div class=\"carousel-item  bd-container-inner-wrapper\">\\n            <img style=\"object-fit: cover;\" width=\"1829px\" height=\"445px\" src=\"/photos/slider/jpeg-optimizer_02_sph4u6O.jpeg\" alt=\"Image 1\">\\n        </div>\\n    \\n        <div class=\"carousel-item  bd-container-inner-wrapper\">\\n            <img style=\"object-fit: cover;\" width=\"1829px\" height=\"445px\" src=\"/photos/slider/jpeg-optimizer_03_p4zAERy.jpeg\" alt=\"Image 1\">\\n        </div>\\n    \\n\\n                    </div>\\n\\n                    <!-- Controls -->\\n                    <a class=\"carousel-control-prev\" href=\"#mySlider\" role=\"button\" data-slide=\"prev\">\\n                        <span class=\"carousel-control-prev-icon\" aria-hidden=\"true\"></span>\\n                        <span class=\"sr-only\">Previous</span>\\n                    </a>\\n\\n                    <a class=\"carousel-control-next\" href=\"#mySlider\" role=\"button\" data-slide=\"next\">\\n                        <span class=\"carousel-control-next-icon\" aria-hidden=\"true\"></span>\\n                        <span class=\"sr-only\">Next</span>\\n                    </a>\\n                </div>\\n            </div>\\n        </div>\\n\\n        <br>\\n\\n        \\n\\n    <div class=\"row\">\\n        <div class=\"col-md-2\"></div>\\n\\n        <div class=\"col-md-2\">\\n            <div class=\"row\">\\n                <div class=\"col-12\">\\n                    <p id=\"contact-us-header\">CONTACT US!</p>\\n                </div>\\n            </div>\\n\\n            <div class=\"row text-center\">\\n                <div class=\"col-12\">\\n                    <div class=\"contact-us-box\">\\n\\n                        <form method=\"post\" action=\"/\">\\n                            <input type=\"hidden\" name=\"csrfmiddlewaretoken\" value=\"uKokd6WdRiNhzk8ckJBFDSm2RKLsLV4m3wdnUYhy4w0IFQkWRup6eo3DV37Atf7y\">\\n\\n                            <input type=\"text\" name=\"name\" class=\"form-control\" placeholder=\"Name\" required=\"\" id=\"id_name\">\\n                            \\n\\n                            <br>\\n\\n                            <input type=\"email\" name=\"email\" class=\"form-control\" placeholder=\"Email\" maxlength=\"320\" required=\"\" id=\"id_email\">\\n                            \\n\\n                            <br>\\n                            <textarea name=\"message\" cols=\"40\" rows=\"10\" class=\"form-control\" placeholder=\"Plase include as much detail as possible.\" required=\"\" id=\"id_message\"></textarea>\\n                            \\n\\n\\n\\n                            <br>\\n\\n                            <button class=\"btn btn-secondary\" type=\"submit\">Send</button>\\n                        </form>\\n\\n                    </div>\\n                </div>\\n\\n            </div>\\n        </div>\\n\\n        <div class=\"col-md-6\">\\n\\n            <div id=\"main-box\">\\n\\n                <br>\\n\\n                \\n                    <h4 style=\"text-align: center;\">At Tasree . . .</h4>\\n                \\n\\n                <br>\\n\\n                \\n                    <p style=\"text-align: justify;\">At Tasree, Our innovative Paperless valet service is design to enhance guest services, increasing revenue for your business and promote sustainability-all while eliminating the waiting time.</p>\\n                \\n\\n                <br>\\n\\n                \\n\\n                <br>\\n\\n                \\n                    <p style=\"text-align: justify;\">committed for develirying Exceptional guest experiencing While prioritizing , we are delighted to serve you as best industry solution.</p>\\n                \\n\\n                <br>\\n\\n                \\n\\n                <br>\\n\\n                \\n                    <p style=\"text-align: justify;\">I love Tasree because their leaders are progressive, and they always want to satisfy my needs.</p>\\n                \\n\\n                <br>\\n\\n            </div>\\n        </div>\\n\\n        <div class=\"col-md-2\"></div>\\n\\n    </div>\\n\\n\\n\\n        <br>\\n\\n        <div class=\"row\">\\n            <div class=\"col-12\">\\n                <div id=\"footer\">\\n                    <p>tasree.ae</p>\\n\\n                </div>\\n            </div>\\n        </div>\\n\\n\\n    </div>\\n\\n    <script src=\"https://cdn.jsdelivr.net/npm/jquery@3.6.4/dist/jquery.slim.min.js\"></script>\\n    <script src=\"https://cdn.jsdelivr.net/npm/popper.js@1.16.1/dist/umd/popper.min.js\"></script>\\n    <script src=\"https://cdn.jsdelivr.net/npm/bootstrap@4.6.2/dist/js/bootstrap.bundle.min.js\"></script>\\n\\n    \\n\\n</body></html>'"
      ]
     },
     "execution_count": 32,
     "metadata": {},
     "output_type": "execute_result"
    }
   ],
   "source": [
    "source"
   ]
  },
  {
   "cell_type": "code",
   "execution_count": 35,
   "metadata": {},
   "outputs": [
    {
     "data": {
      "text/plain": [
       "[]"
      ]
     },
     "execution_count": 35,
     "metadata": {},
     "output_type": "execute_result"
    }
   ],
   "source": [
    "x = re.findall(\"<h1>(.*?)<\\/h1>\", source)\n",
    "x"
   ]
  }
 ],
 "metadata": {
  "kernelspec": {
   "display_name": "venv",
   "language": "python",
   "name": "python3"
  },
  "language_info": {
   "codemirror_mode": {
    "name": "ipython",
    "version": 3
   },
   "file_extension": ".py",
   "mimetype": "text/x-python",
   "name": "python",
   "nbconvert_exporter": "python",
   "pygments_lexer": "ipython3",
   "version": "3.10.12"
  }
 },
 "nbformat": 4,
 "nbformat_minor": 2
}
