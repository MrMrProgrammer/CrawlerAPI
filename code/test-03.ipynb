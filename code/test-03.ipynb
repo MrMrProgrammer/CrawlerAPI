{
 "cells": [
  {
   "cell_type": "code",
   "execution_count": 1,
   "metadata": {},
   "outputs": [],
   "source": [
    "from selenium import webdriver\n",
    "from selenium.webdriver.common.by import By\n",
    "from selenium.webdriver.chrome.service import Service as ChromeService\n",
    "from webdriver_manager.chrome import ChromeDriverManager\n",
    "\n",
    "import requests\n",
    "from tqdm import tqdm"
   ]
  },
  {
   "cell_type": "code",
   "execution_count": 2,
   "metadata": {},
   "outputs": [],
   "source": [
    "driver = webdriver.Chrome(service=ChromeService(ChromeDriverManager().install()))\n",
    "driver.maximize_window()"
   ]
  },
  {
   "cell_type": "code",
   "execution_count": 4,
   "metadata": {},
   "outputs": [],
   "source": [
    "year_range = []\n",
    "page_links = []\n",
    "\n",
    "for i in range(1400, 1403):\n",
    "    year_range.append(i)"
   ]
  },
  {
   "cell_type": "code",
   "execution_count": 5,
   "metadata": {},
   "outputs": [
    {
     "name": "stderr",
     "output_type": "stream",
     "text": [
      "100%|██████████| 3/3 [00:06<00:00,  2.24s/it]\n"
     ]
    }
   ],
   "source": [
    "for year in tqdm(year_range):\n",
    "    driver.get(f\"https://farsi.khamenei.ir/speech?nt=2&year={year}\")\n",
    "\n",
    "    links = driver.find_elements(By.CLASS_NAME, \"AccBoxClass\")\n",
    "    in_links = driver.find_elements(By.CLASS_NAME, \"AccBoxClassInActive\")\n",
    "\n",
    "    for link in links:\n",
    "\n",
    "        link = link.find_element(By.TAG_NAME, 'a').get_attribute('href')\n",
    "\n",
    "        page_links.append(link)\n",
    "\n",
    "    for link in in_links:\n",
    "\n",
    "        link = link.find_element(By.TAG_NAME, 'a').get_attribute('href')\n",
    "\n",
    "        page_links.append(link)"
   ]
  },
  {
   "cell_type": "code",
   "execution_count": 9,
   "metadata": {},
   "outputs": [
    {
     "data": {
      "text/plain": [
       "['https://farsi.khamenei.ir/speech-content?id=49769',\n",
       " 'https://farsi.khamenei.ir/speech-content?id=49725',\n",
       " 'https://farsi.khamenei.ir/speech-content?id=49680',\n",
       " 'https://farsi.khamenei.ir/speech-content?id=49633',\n",
       " 'https://farsi.khamenei.ir/speech-content?id=49572',\n",
       " 'https://farsi.khamenei.ir/speech-content?id=49494',\n",
       " 'https://farsi.khamenei.ir/speech-content?id=49537',\n",
       " 'https://farsi.khamenei.ir/speech-content?id=49448',\n",
       " 'https://farsi.khamenei.ir/speech-content?id=49361',\n",
       " 'https://farsi.khamenei.ir/speech-content?id=49260',\n",
       " 'https://farsi.khamenei.ir/speech-content?id=49192',\n",
       " 'https://farsi.khamenei.ir/speech-content?id=49118',\n",
       " 'https://farsi.khamenei.ir/speech-content?id=49011',\n",
       " 'https://farsi.khamenei.ir/speech-content?id=48891',\n",
       " 'https://farsi.khamenei.ir/speech-content?id=48908',\n",
       " 'https://farsi.khamenei.ir/speech-content?id=48783',\n",
       " 'https://farsi.khamenei.ir/speech-content?id=48746',\n",
       " 'https://farsi.khamenei.ir/speech-content?id=48666',\n",
       " 'https://farsi.khamenei.ir/speech-content?id=48588',\n",
       " 'https://farsi.khamenei.ir/speech-content?id=48469',\n",
       " 'https://farsi.khamenei.ir/speech-content?id=48413',\n",
       " 'https://farsi.khamenei.ir/speech-content?id=48356',\n",
       " 'https://farsi.khamenei.ir/speech-content?id=48322',\n",
       " 'https://farsi.khamenei.ir/speech-content?id=48211',\n",
       " 'https://farsi.khamenei.ir/speech-content?id=48172',\n",
       " 'https://farsi.khamenei.ir/speech-content?id=48098',\n",
       " 'https://farsi.khamenei.ir/speech-content?id=48061',\n",
       " 'https://farsi.khamenei.ir/speech-content?id=47991',\n",
       " 'https://farsi.khamenei.ir/speech-content?id=47927',\n",
       " 'https://farsi.khamenei.ir/speech-content?id=47834',\n",
       " 'https://farsi.khamenei.ir/speech-content?id=47798',\n",
       " 'https://farsi.khamenei.ir/speech-content?id=47776',\n",
       " 'https://farsi.khamenei.ir/speech-content?id=47709',\n",
       " 'https://farsi.khamenei.ir/speech-content?id=47576',\n",
       " 'https://farsi.khamenei.ir/speech-content?id=49755',\n",
       " 'https://farsi.khamenei.ir/speech-content?id=52165',\n",
       " 'https://farsi.khamenei.ir/speech-content?id=52025',\n",
       " 'https://farsi.khamenei.ir/speech-content?id=51999',\n",
       " 'https://farsi.khamenei.ir/speech-content?id=51923',\n",
       " 'https://farsi.khamenei.ir/speech-content?id=51840',\n",
       " 'https://farsi.khamenei.ir/speech-content?id=51746',\n",
       " 'https://farsi.khamenei.ir/speech-content?id=51707',\n",
       " 'https://farsi.khamenei.ir/speech-content?id=51655',\n",
       " 'https://farsi.khamenei.ir/speech-content?id=51764',\n",
       " 'https://farsi.khamenei.ir/speech-content?id=51635',\n",
       " 'https://farsi.khamenei.ir/speech-content?id=51609',\n",
       " 'https://farsi.khamenei.ir/speech-content?id=51528',\n",
       " 'https://farsi.khamenei.ir/speech-content?id=51490',\n",
       " 'https://farsi.khamenei.ir/speech-content?id=51418',\n",
       " 'https://farsi.khamenei.ir/speech-content?id=51376',\n",
       " 'https://farsi.khamenei.ir/speech-content?id=51259',\n",
       " 'https://farsi.khamenei.ir/speech-content?id=51342',\n",
       " 'https://farsi.khamenei.ir/speech-content?id=51184',\n",
       " 'https://farsi.khamenei.ir/speech-content?id=51151',\n",
       " 'https://farsi.khamenei.ir/speech-content?id=51139',\n",
       " 'https://farsi.khamenei.ir/speech-content?id=51048',\n",
       " 'https://farsi.khamenei.ir/speech-content?id=50986',\n",
       " 'https://farsi.khamenei.ir/speech-content?id=50944',\n",
       " 'https://farsi.khamenei.ir/speech-content?id=51095',\n",
       " 'https://farsi.khamenei.ir/speech-content?id=50878',\n",
       " 'https://farsi.khamenei.ir/speech-content?id=50834',\n",
       " 'https://farsi.khamenei.ir/speech-content?id=50689',\n",
       " 'https://farsi.khamenei.ir/speech-content?id=50545',\n",
       " 'https://farsi.khamenei.ir/speech-content?id=50494',\n",
       " 'https://farsi.khamenei.ir/speech-content?id=50419',\n",
       " 'https://farsi.khamenei.ir/speech-content?id=50381',\n",
       " 'https://farsi.khamenei.ir/speech-content?id=50317',\n",
       " 'https://farsi.khamenei.ir/speech-content?id=50226',\n",
       " 'https://farsi.khamenei.ir/speech-content?id=50205',\n",
       " 'https://farsi.khamenei.ir/speech-content?id=50116',\n",
       " 'https://farsi.khamenei.ir/speech-content?id=50102',\n",
       " 'https://farsi.khamenei.ir/speech-content?id=50037',\n",
       " 'https://farsi.khamenei.ir/speech-content?id=49983',\n",
       " 'https://farsi.khamenei.ir/speech-content?id=49886',\n",
       " 'https://farsi.khamenei.ir/speech-content?id=51877',\n",
       " 'https://farsi.khamenei.ir/speech-content?id=51546',\n",
       " 'https://farsi.khamenei.ir/speech-content?id=49908',\n",
       " 'https://farsi.khamenei.ir/speech-content?id=55070',\n",
       " 'https://farsi.khamenei.ir/speech-content?id=54897',\n",
       " 'https://farsi.khamenei.ir/speech-content?id=54788',\n",
       " 'https://farsi.khamenei.ir/speech-content?id=54696',\n",
       " 'https://farsi.khamenei.ir/speech-content?id=54526',\n",
       " 'https://farsi.khamenei.ir/speech-content?id=54447',\n",
       " 'https://farsi.khamenei.ir/speech-content?id=54419',\n",
       " 'https://farsi.khamenei.ir/speech-content?id=54271',\n",
       " 'https://farsi.khamenei.ir/speech-content?id=54222',\n",
       " 'https://farsi.khamenei.ir/speech-content?id=54139',\n",
       " 'https://farsi.khamenei.ir/speech-content?id=54056',\n",
       " 'https://farsi.khamenei.ir/speech-content?id=53980',\n",
       " 'https://farsi.khamenei.ir/speech-content?id=53887',\n",
       " 'https://farsi.khamenei.ir/speech-content?id=53820',\n",
       " 'https://farsi.khamenei.ir/speech-content?id=53582',\n",
       " 'https://farsi.khamenei.ir/speech-content?id=53607',\n",
       " 'https://farsi.khamenei.ir/speech-content?id=53506',\n",
       " 'https://farsi.khamenei.ir/speech-content?id=53333',\n",
       " 'https://farsi.khamenei.ir/speech-content?id=53222',\n",
       " 'https://farsi.khamenei.ir/speech-content?id=53203',\n",
       " 'https://farsi.khamenei.ir/speech-content?id=53111',\n",
       " 'https://farsi.khamenei.ir/speech-content?id=53057',\n",
       " 'https://farsi.khamenei.ir/speech-content?id=53006',\n",
       " 'https://farsi.khamenei.ir/speech-content?id=52934',\n",
       " 'https://farsi.khamenei.ir/speech-content?id=52837',\n",
       " 'https://farsi.khamenei.ir/speech-content?id=52723',\n",
       " 'https://farsi.khamenei.ir/speech-content?id=52694',\n",
       " 'https://farsi.khamenei.ir/speech-content?id=52603',\n",
       " 'https://farsi.khamenei.ir/speech-content?id=52602',\n",
       " 'https://farsi.khamenei.ir/speech-content?id=52554',\n",
       " 'https://farsi.khamenei.ir/speech-content?id=52531',\n",
       " 'https://farsi.khamenei.ir/speech-content?id=52431',\n",
       " 'https://farsi.khamenei.ir/speech-content?id=52389',\n",
       " 'https://farsi.khamenei.ir/speech-content?id=52299',\n",
       " 'https://farsi.khamenei.ir/speech-content?id=52275',\n",
       " 'https://farsi.khamenei.ir/speech-content?id=55201',\n",
       " 'https://farsi.khamenei.ir/speech-content?id=55160',\n",
       " 'https://farsi.khamenei.ir/speech-content?id=55023',\n",
       " 'https://farsi.khamenei.ir/speech-content?id=54960',\n",
       " 'https://farsi.khamenei.ir/speech-content?id=54820',\n",
       " 'https://farsi.khamenei.ir/speech-content?id=54745',\n",
       " 'https://farsi.khamenei.ir/speech-content?id=54607',\n",
       " 'https://farsi.khamenei.ir/speech-content?id=54370',\n",
       " 'https://farsi.khamenei.ir/speech-content?id=54021',\n",
       " 'https://farsi.khamenei.ir/speech-content?id=53989',\n",
       " 'https://farsi.khamenei.ir/speech-content?id=53782',\n",
       " 'https://farsi.khamenei.ir/speech-content?id=53710',\n",
       " 'https://farsi.khamenei.ir/speech-content?id=52818']"
      ]
     },
     "execution_count": 9,
     "metadata": {},
     "output_type": "execute_result"
    }
   ],
   "source": [
    "page_links"
   ]
  },
  {
   "cell_type": "code",
   "execution_count": 10,
   "metadata": {},
   "outputs": [
    {
     "data": {
      "text/plain": [
       "125"
      ]
     },
     "execution_count": 10,
     "metadata": {},
     "output_type": "execute_result"
    }
   ],
   "source": [
    "len(page_links)"
   ]
  },
  {
   "cell_type": "code",
   "execution_count": null,
   "metadata": {},
   "outputs": [],
   "source": []
  },
  {
   "cell_type": "code",
   "execution_count": null,
   "metadata": {},
   "outputs": [],
   "source": [
    "url = \"http://127.0.0.1:8000/crawlin\"\n",
    "\n",
    "data = {\n",
    "    \"urls\" : page_links,\n",
    "    \"fields\" : [{\n",
    "            \"name\" : \"Content\",\n",
    "            \"multi\" : \"False\",\n",
    "            \"file\" : \"False\",\n",
    "            \"ext_type\" : \"XPATH\",\n",
    "            \"ext_value\" : \"//*[@id='newsContentInnerSide']/div[2]/div[3]\"\n",
    "        }]\n",
    "}\n",
    "\n",
    "response = requests.post(url, json=data)"
   ]
  },
  {
   "cell_type": "code",
   "execution_count": null,
   "metadata": {},
   "outputs": [],
   "source": []
  }
 ],
 "metadata": {
  "kernelspec": {
   "display_name": "venv",
   "language": "python",
   "name": "python3"
  },
  "language_info": {
   "codemirror_mode": {
    "name": "ipython",
    "version": 3
   },
   "file_extension": ".py",
   "mimetype": "text/x-python",
   "name": "python",
   "nbconvert_exporter": "python",
   "pygments_lexer": "ipython3",
   "version": "3.10.12"
  }
 },
 "nbformat": 4,
 "nbformat_minor": 2
}
