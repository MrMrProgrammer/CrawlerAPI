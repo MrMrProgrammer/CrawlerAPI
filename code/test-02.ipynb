{
 "cells": [
  {
   "cell_type": "code",
<<<<<<< HEAD
   "execution_count": 38,
=======
   "execution_count": 3,
>>>>>>> main
   "metadata": {},
   "outputs": [],
   "source": [
    "from selenium import webdriver\n",
    "from selenium.webdriver.common.by import By\n",
    "from selenium.webdriver.chrome.service import Service as ChromeService\n",
    "from webdriver_manager.chrome import ChromeDriverManager\n",
    "\n",
    "from time import sleep\n",
<<<<<<< HEAD
    "import csv\n",
    "import random\n",
    "import string"
=======
    "import csv"
>>>>>>> main
   ]
  },
  {
   "cell_type": "code",
   "execution_count": null,
   "metadata": {},
   "outputs": [],
   "source": [
    "def create_csv(field_response, field_name):\n",
    "\n",
    "    for url in data:\n",
    "\n",
    "        filename = ''.join(random.choices(string.ascii_letters + string.digits, k = 10))\n",
    "\n",
    "        filename = \"outputs/output - \" + filename\n",
    "    \n",
    "        with open (filename, \"a\", newline = \"\") as csvfile:\n",
    "\n",
    "            print(url[\"response\"])\n",
    "\n",
    "\n",
    "            # for i in url :\n",
    "            #     row_data = []\n",
    "            #     print(i)\n",
    "\n",
    "            # movies = csv.writer(csvfile)\n",
    "            # test_list1.append(data)\n",
    "            # movies.writerow(data)\n",
    "            # test_list1.clear()\n",
    "        \n",
    "        csvfile.close()\n",
    "\n",
    "\n",
    "create_csv(data)"
   ]
  },
  {
   "cell_type": "code",
   "execution_count": 12,
   "metadata": {},
   "outputs": [],
   "source": [
    "# Add data to CSV\n",
    "\n",
    "def save_csv( field_response , field_name ):\n",
    "    \n",
    "    # test_list1 = []\n",
    "\n",
    "    with open (f'outputs/{field_name}.csv', \"a\", newline = \"\") as csvfile:\n",
    "\n",
    "        movies = csv.writer(csvfile)\n",
    "\n",
    "        movies.writerow(field_response)\n",
    "\n",
    "        # test_list1.append(data)\n",
    "\n",
    "        # movies.writerow(test_list1)\n",
    "\n",
    "        # test_list1.clear()\n",
    "        \n",
    "    csvfile.close()\n",
    "\n",
    "    return \"PATH\""
   ]
  },
  {
   "cell_type": "code",
   "execution_count": 13,
   "metadata": {},
   "outputs": [],
   "source": [
    "data = list[\"key\", \"value\"]"
   ]
  },
  {
   "cell_type": "code",
   "execution_count": 14,
   "metadata": {},
   "outputs": [
    {
     "ename": "Error",
     "evalue": "iterable expected, not types.GenericAlias",
     "output_type": "error",
     "traceback": [
      "\u001b[0;31m---------------------------------------------------------------------------\u001b[0m",
      "\u001b[0;31mError\u001b[0m                                     Traceback (most recent call last)",
      "Cell \u001b[0;32mIn[14], line 1\u001b[0m\n\u001b[0;32m----> 1\u001b[0m \u001b[43msave_csv\u001b[49m\u001b[43m(\u001b[49m\u001b[43mdata\u001b[49m\u001b[43m,\u001b[49m\u001b[43m \u001b[49m\u001b[38;5;124;43m\"\u001b[39;49m\u001b[38;5;124;43mfile_name\u001b[39;49m\u001b[38;5;124;43m\"\u001b[39;49m\u001b[43m)\u001b[49m\n",
      "Cell \u001b[0;32mIn[12], line 11\u001b[0m, in \u001b[0;36msave_csv\u001b[0;34m(field_response, field_name)\u001b[0m\n\u001b[1;32m      7\u001b[0m \u001b[38;5;28;01mwith\u001b[39;00m \u001b[38;5;28mopen\u001b[39m (\u001b[38;5;124mf\u001b[39m\u001b[38;5;124m'\u001b[39m\u001b[38;5;124moutputs/\u001b[39m\u001b[38;5;132;01m{\u001b[39;00mfield_name\u001b[38;5;132;01m}\u001b[39;00m\u001b[38;5;124m.csv\u001b[39m\u001b[38;5;124m'\u001b[39m, \u001b[38;5;124m\"\u001b[39m\u001b[38;5;124ma\u001b[39m\u001b[38;5;124m\"\u001b[39m, newline \u001b[38;5;241m=\u001b[39m \u001b[38;5;124m\"\u001b[39m\u001b[38;5;124m\"\u001b[39m) \u001b[38;5;28;01mas\u001b[39;00m csvfile:\n\u001b[1;32m      9\u001b[0m     movies \u001b[38;5;241m=\u001b[39m csv\u001b[38;5;241m.\u001b[39mwriter(csvfile)\n\u001b[0;32m---> 11\u001b[0m     \u001b[43mmovies\u001b[49m\u001b[38;5;241;43m.\u001b[39;49m\u001b[43mwriterow\u001b[49m\u001b[43m(\u001b[49m\u001b[43mfield_response\u001b[49m\u001b[43m)\u001b[49m\n\u001b[1;32m     13\u001b[0m     \u001b[38;5;66;03m# test_list1.append(data)\u001b[39;00m\n\u001b[1;32m     14\u001b[0m \n\u001b[1;32m     15\u001b[0m     \u001b[38;5;66;03m# movies.writerow(test_list1)\u001b[39;00m\n\u001b[1;32m     16\u001b[0m \n\u001b[1;32m     17\u001b[0m     \u001b[38;5;66;03m# test_list1.clear()\u001b[39;00m\n\u001b[1;32m     19\u001b[0m csvfile\u001b[38;5;241m.\u001b[39mclose()\n",
      "\u001b[0;31mError\u001b[0m: iterable expected, not types.GenericAlias"
     ]
    }
   ],
   "source": [
    "save_csv(data, \"file_name\")"
   ]
  },
  {
   "cell_type": "code",
<<<<<<< HEAD
   "execution_count": 54,
=======
   "execution_count": 16,
>>>>>>> main
   "metadata": {},
   "outputs": [
    {
     "data": {
      "text/plain": [
<<<<<<< HEAD
       "'outputs/PxhRbh1ycDkErFU829Z0sTKVKx2Po9.csv'"
      ]
     },
     "execution_count": 54,
=======
       "'outputs/file_name.csv'"
      ]
     },
     "execution_count": 16,
>>>>>>> main
     "metadata": {},
     "output_type": "execute_result"
    }
   ],
   "source": [
<<<<<<< HEAD
    "def save_csv(field_name, field_response):\n",
    "\n",
    "    random_string = ''.join(random.choices(string.ascii_letters + string.digits, k = 30))\n",
    "\n",
    "    file_name = \"outputs/\" + random_string + \".csv\"\n",
    "\n",
    "    with open(file_name, \"a\", newline=\"\") as csvfile:\n",
    "        movies = csv.writer(csvfile)\n",
    "        movies.writerow(field_response)\n",
    "\n",
    "    return file_name\n",
    "\n",
=======
    "def save_csv(field_response, field_name):\n",
    "    with open(f'outputs/{field_name}.csv', \"a\", newline=\"\") as csvfile:\n",
    "        movies = csv.writer(csvfile)\n",
    "        movies.writerow(field_response)\n",
    "\n",
    "    return f\"outputs/{field_name}.csv\"\n",
>>>>>>> main
    "\n",
    "data = [\"key\", \"value\"]\n",
    "save_csv(data, \"file_name\")\n"
   ]
  },
  {
   "cell_type": "code",
<<<<<<< HEAD
   "execution_count": 41,
   "metadata": {},
   "outputs": [
    {
     "data": {
      "text/plain": [
       "'nK7CSvln0t'"
      ]
     },
     "execution_count": 41,
     "metadata": {},
     "output_type": "execute_result"
    }
   ],
   "source": [
    "random_string = ''.join(random.choices(string.ascii_letters + string.digits, k = 10))\n",
    "random_string"
   ]
=======
   "execution_count": null,
   "metadata": {},
   "outputs": [],
   "source": []
>>>>>>> main
  }
 ],
 "metadata": {
  "kernelspec": {
   "display_name": "venv",
   "language": "python",
   "name": "python3"
  },
  "language_info": {
   "codemirror_mode": {
    "name": "ipython",
    "version": 3
   },
   "file_extension": ".py",
   "mimetype": "text/x-python",
   "name": "python",
   "nbconvert_exporter": "python",
   "pygments_lexer": "ipython3",
   "version": "3.10.12"
  }
 },
 "nbformat": 4,
 "nbformat_minor": 2
}
