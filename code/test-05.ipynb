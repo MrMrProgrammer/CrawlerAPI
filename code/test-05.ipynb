{
 "cells": [
  {
   "cell_type": "code",
   "execution_count": 2,
   "id": "initial_id",
   "metadata": {
    "ExecuteTime": {
     "end_time": "2024-02-24T05:20:55.854757981Z",
     "start_time": "2024-02-24T05:20:55.670351091Z"
    },
    "collapsed": true
   },
   "outputs": [],
   "source": [
    "from selenium import webdriver\n",
    "from selenium.webdriver.common.by import By\n",
    "from selenium.webdriver.chrome.service import Service as ChromeService\n",
    "from webdriver_manager.chrome import ChromeDriverManager"
   ]
  },
  {
   "cell_type": "code",
   "execution_count": 3,
   "id": "359ba1838aa85b1c",
   "metadata": {
    "ExecuteTime": {
     "end_time": "2024-02-24T05:21:15.877182950Z",
     "start_time": "2024-02-24T05:21:09.698875978Z"
    },
    "collapsed": false
   },
   "outputs": [],
   "source": [
    "driver = webdriver.Chrome(service=ChromeService(ChromeDriverManager().install()))\n",
    "driver.maximize_window()\n",
    "driver.get(\"https://arxiv.org/search/?query=ai&searchtype=all&source=header\")"
   ]
  },
  {
   "cell_type": "code",
   "execution_count": 8,
   "id": "24b1afa07ead3d9e",
   "metadata": {
    "ExecuteTime": {
     "end_time": "2024-02-24T05:21:16.528854924Z",
     "start_time": "2024-02-24T05:21:16.525281584Z"
    },
    "collapsed": false
   },
   "outputs": [],
   "source": [
    "Class = \".list-title.is-inline-block\""
   ]
  },
  {
   "cell_type": "code",
   "execution_count": 9,
   "id": "9c45e0bbdf03b43e",
   "metadata": {
    "ExecuteTime": {
     "end_time": "2024-02-24T05:22:57.356856082Z",
     "start_time": "2024-02-24T05:22:57.301670605Z"
    },
    "collapsed": false
   },
   "outputs": [
    {
     "data": {
      "text/plain": [
       "[<selenium.webdriver.remote.webelement.WebElement (session=\"9d51103a0423ffa2b56cd4d451c5ae79\", element=\"ADD7B5D69611BA24338E8394DCB66F12_element_1271\")>,\n",
       " <selenium.webdriver.remote.webelement.WebElement (session=\"9d51103a0423ffa2b56cd4d451c5ae79\", element=\"ADD7B5D69611BA24338E8394DCB66F12_element_1288\")>,\n",
       " <selenium.webdriver.remote.webelement.WebElement (session=\"9d51103a0423ffa2b56cd4d451c5ae79\", element=\"ADD7B5D69611BA24338E8394DCB66F12_element_1289\")>,\n",
       " <selenium.webdriver.remote.webelement.WebElement (session=\"9d51103a0423ffa2b56cd4d451c5ae79\", element=\"ADD7B5D69611BA24338E8394DCB66F12_element_1290\")>,\n",
       " <selenium.webdriver.remote.webelement.WebElement (session=\"9d51103a0423ffa2b56cd4d451c5ae79\", element=\"ADD7B5D69611BA24338E8394DCB66F12_element_1291\")>,\n",
       " <selenium.webdriver.remote.webelement.WebElement (session=\"9d51103a0423ffa2b56cd4d451c5ae79\", element=\"ADD7B5D69611BA24338E8394DCB66F12_element_1292\")>,\n",
       " <selenium.webdriver.remote.webelement.WebElement (session=\"9d51103a0423ffa2b56cd4d451c5ae79\", element=\"ADD7B5D69611BA24338E8394DCB66F12_element_1293\")>,\n",
       " <selenium.webdriver.remote.webelement.WebElement (session=\"9d51103a0423ffa2b56cd4d451c5ae79\", element=\"ADD7B5D69611BA24338E8394DCB66F12_element_1294\")>,\n",
       " <selenium.webdriver.remote.webelement.WebElement (session=\"9d51103a0423ffa2b56cd4d451c5ae79\", element=\"ADD7B5D69611BA24338E8394DCB66F12_element_1295\")>,\n",
       " <selenium.webdriver.remote.webelement.WebElement (session=\"9d51103a0423ffa2b56cd4d451c5ae79\", element=\"ADD7B5D69611BA24338E8394DCB66F12_element_1296\")>,\n",
       " <selenium.webdriver.remote.webelement.WebElement (session=\"9d51103a0423ffa2b56cd4d451c5ae79\", element=\"ADD7B5D69611BA24338E8394DCB66F12_element_1297\")>,\n",
       " <selenium.webdriver.remote.webelement.WebElement (session=\"9d51103a0423ffa2b56cd4d451c5ae79\", element=\"ADD7B5D69611BA24338E8394DCB66F12_element_1298\")>,\n",
       " <selenium.webdriver.remote.webelement.WebElement (session=\"9d51103a0423ffa2b56cd4d451c5ae79\", element=\"ADD7B5D69611BA24338E8394DCB66F12_element_1299\")>,\n",
       " <selenium.webdriver.remote.webelement.WebElement (session=\"9d51103a0423ffa2b56cd4d451c5ae79\", element=\"ADD7B5D69611BA24338E8394DCB66F12_element_1300\")>,\n",
       " <selenium.webdriver.remote.webelement.WebElement (session=\"9d51103a0423ffa2b56cd4d451c5ae79\", element=\"ADD7B5D69611BA24338E8394DCB66F12_element_1301\")>,\n",
       " <selenium.webdriver.remote.webelement.WebElement (session=\"9d51103a0423ffa2b56cd4d451c5ae79\", element=\"ADD7B5D69611BA24338E8394DCB66F12_element_1302\")>,\n",
       " <selenium.webdriver.remote.webelement.WebElement (session=\"9d51103a0423ffa2b56cd4d451c5ae79\", element=\"ADD7B5D69611BA24338E8394DCB66F12_element_1303\")>,\n",
       " <selenium.webdriver.remote.webelement.WebElement (session=\"9d51103a0423ffa2b56cd4d451c5ae79\", element=\"ADD7B5D69611BA24338E8394DCB66F12_element_1304\")>,\n",
       " <selenium.webdriver.remote.webelement.WebElement (session=\"9d51103a0423ffa2b56cd4d451c5ae79\", element=\"ADD7B5D69611BA24338E8394DCB66F12_element_1305\")>,\n",
       " <selenium.webdriver.remote.webelement.WebElement (session=\"9d51103a0423ffa2b56cd4d451c5ae79\", element=\"ADD7B5D69611BA24338E8394DCB66F12_element_1306\")>,\n",
       " <selenium.webdriver.remote.webelement.WebElement (session=\"9d51103a0423ffa2b56cd4d451c5ae79\", element=\"ADD7B5D69611BA24338E8394DCB66F12_element_1307\")>,\n",
       " <selenium.webdriver.remote.webelement.WebElement (session=\"9d51103a0423ffa2b56cd4d451c5ae79\", element=\"ADD7B5D69611BA24338E8394DCB66F12_element_1308\")>,\n",
       " <selenium.webdriver.remote.webelement.WebElement (session=\"9d51103a0423ffa2b56cd4d451c5ae79\", element=\"ADD7B5D69611BA24338E8394DCB66F12_element_1309\")>,\n",
       " <selenium.webdriver.remote.webelement.WebElement (session=\"9d51103a0423ffa2b56cd4d451c5ae79\", element=\"ADD7B5D69611BA24338E8394DCB66F12_element_1310\")>,\n",
       " <selenium.webdriver.remote.webelement.WebElement (session=\"9d51103a0423ffa2b56cd4d451c5ae79\", element=\"ADD7B5D69611BA24338E8394DCB66F12_element_1311\")>,\n",
       " <selenium.webdriver.remote.webelement.WebElement (session=\"9d51103a0423ffa2b56cd4d451c5ae79\", element=\"ADD7B5D69611BA24338E8394DCB66F12_element_1312\")>,\n",
       " <selenium.webdriver.remote.webelement.WebElement (session=\"9d51103a0423ffa2b56cd4d451c5ae79\", element=\"ADD7B5D69611BA24338E8394DCB66F12_element_1313\")>,\n",
       " <selenium.webdriver.remote.webelement.WebElement (session=\"9d51103a0423ffa2b56cd4d451c5ae79\", element=\"ADD7B5D69611BA24338E8394DCB66F12_element_1314\")>,\n",
       " <selenium.webdriver.remote.webelement.WebElement (session=\"9d51103a0423ffa2b56cd4d451c5ae79\", element=\"ADD7B5D69611BA24338E8394DCB66F12_element_1315\")>,\n",
       " <selenium.webdriver.remote.webelement.WebElement (session=\"9d51103a0423ffa2b56cd4d451c5ae79\", element=\"ADD7B5D69611BA24338E8394DCB66F12_element_1316\")>,\n",
       " <selenium.webdriver.remote.webelement.WebElement (session=\"9d51103a0423ffa2b56cd4d451c5ae79\", element=\"ADD7B5D69611BA24338E8394DCB66F12_element_1317\")>,\n",
       " <selenium.webdriver.remote.webelement.WebElement (session=\"9d51103a0423ffa2b56cd4d451c5ae79\", element=\"ADD7B5D69611BA24338E8394DCB66F12_element_1318\")>,\n",
       " <selenium.webdriver.remote.webelement.WebElement (session=\"9d51103a0423ffa2b56cd4d451c5ae79\", element=\"ADD7B5D69611BA24338E8394DCB66F12_element_1319\")>,\n",
       " <selenium.webdriver.remote.webelement.WebElement (session=\"9d51103a0423ffa2b56cd4d451c5ae79\", element=\"ADD7B5D69611BA24338E8394DCB66F12_element_1320\")>,\n",
       " <selenium.webdriver.remote.webelement.WebElement (session=\"9d51103a0423ffa2b56cd4d451c5ae79\", element=\"ADD7B5D69611BA24338E8394DCB66F12_element_1321\")>,\n",
       " <selenium.webdriver.remote.webelement.WebElement (session=\"9d51103a0423ffa2b56cd4d451c5ae79\", element=\"ADD7B5D69611BA24338E8394DCB66F12_element_1322\")>,\n",
       " <selenium.webdriver.remote.webelement.WebElement (session=\"9d51103a0423ffa2b56cd4d451c5ae79\", element=\"ADD7B5D69611BA24338E8394DCB66F12_element_1323\")>,\n",
       " <selenium.webdriver.remote.webelement.WebElement (session=\"9d51103a0423ffa2b56cd4d451c5ae79\", element=\"ADD7B5D69611BA24338E8394DCB66F12_element_1324\")>,\n",
       " <selenium.webdriver.remote.webelement.WebElement (session=\"9d51103a0423ffa2b56cd4d451c5ae79\", element=\"ADD7B5D69611BA24338E8394DCB66F12_element_1325\")>,\n",
       " <selenium.webdriver.remote.webelement.WebElement (session=\"9d51103a0423ffa2b56cd4d451c5ae79\", element=\"ADD7B5D69611BA24338E8394DCB66F12_element_1326\")>,\n",
       " <selenium.webdriver.remote.webelement.WebElement (session=\"9d51103a0423ffa2b56cd4d451c5ae79\", element=\"ADD7B5D69611BA24338E8394DCB66F12_element_1327\")>,\n",
       " <selenium.webdriver.remote.webelement.WebElement (session=\"9d51103a0423ffa2b56cd4d451c5ae79\", element=\"ADD7B5D69611BA24338E8394DCB66F12_element_1328\")>,\n",
       " <selenium.webdriver.remote.webelement.WebElement (session=\"9d51103a0423ffa2b56cd4d451c5ae79\", element=\"ADD7B5D69611BA24338E8394DCB66F12_element_1329\")>,\n",
       " <selenium.webdriver.remote.webelement.WebElement (session=\"9d51103a0423ffa2b56cd4d451c5ae79\", element=\"ADD7B5D69611BA24338E8394DCB66F12_element_1330\")>,\n",
       " <selenium.webdriver.remote.webelement.WebElement (session=\"9d51103a0423ffa2b56cd4d451c5ae79\", element=\"ADD7B5D69611BA24338E8394DCB66F12_element_1331\")>,\n",
       " <selenium.webdriver.remote.webelement.WebElement (session=\"9d51103a0423ffa2b56cd4d451c5ae79\", element=\"ADD7B5D69611BA24338E8394DCB66F12_element_1332\")>,\n",
       " <selenium.webdriver.remote.webelement.WebElement (session=\"9d51103a0423ffa2b56cd4d451c5ae79\", element=\"ADD7B5D69611BA24338E8394DCB66F12_element_1333\")>,\n",
       " <selenium.webdriver.remote.webelement.WebElement (session=\"9d51103a0423ffa2b56cd4d451c5ae79\", element=\"ADD7B5D69611BA24338E8394DCB66F12_element_1334\")>,\n",
       " <selenium.webdriver.remote.webelement.WebElement (session=\"9d51103a0423ffa2b56cd4d451c5ae79\", element=\"ADD7B5D69611BA24338E8394DCB66F12_element_1335\")>,\n",
       " <selenium.webdriver.remote.webelement.WebElement (session=\"9d51103a0423ffa2b56cd4d451c5ae79\", element=\"ADD7B5D69611BA24338E8394DCB66F12_element_1336\")>]"
      ]
     },
     "execution_count": 9,
     "metadata": {},
     "output_type": "execute_result"
    }
   ],
   "source": [
    "driver.find_elements(By.CSS_SELECTOR, Class)"
   ]
  },
  {
   "cell_type": "code",
   "execution_count": null,
   "id": "65668fe195dde7d",
   "metadata": {
    "collapsed": false
   },
   "outputs": [],
   "source": []
  }
 ],
 "metadata": {
  "kernelspec": {
   "display_name": "Python 3",
   "language": "python",
   "name": "python3"
  },
  "language_info": {
   "codemirror_mode": {
    "name": "ipython",
    "version": 3
   },
   "file_extension": ".py",
   "mimetype": "text/x-python",
   "name": "python",
   "nbconvert_exporter": "python",
   "pygments_lexer": "ipython3",
   "version": "3.10.12"
  }
 },
 "nbformat": 4,
 "nbformat_minor": 5
}
