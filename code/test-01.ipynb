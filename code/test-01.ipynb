{
 "cells": [
  {
   "cell_type": "code",
   "execution_count": 1,
   "metadata": {},
   "outputs": [],
   "source": [
    "from selenium import webdriver\n",
    "from selenium.webdriver.common.by import By\n",
    "from selenium.webdriver.chrome.service import Service as ChromeService\n",
    "from webdriver_manager.chrome import ChromeDriverManager\n",
    "from time import sleep"
   ]
  },
  {
   "cell_type": "code",
   "execution_count": 2,
   "metadata": {},
   "outputs": [],
   "source": [
    "driver = webdriver.Chrome(service=ChromeService(ChromeDriverManager().install()))\n",
    "driver.maximize_window()"
   ]
  },
  {
   "cell_type": "code",
   "execution_count": 3,
   "metadata": {},
   "outputs": [],
   "source": [
    "driver.get(\"https://farsi.khamenei.ir/speech-content?id=51342\")"
   ]
  },
  {
   "cell_type": "code",
   "execution_count": 6,
   "metadata": {},
   "outputs": [],
   "source": [
    "x = driver.find_elements(By.XPATH, \"//*[@id='newsContentInnerSide']/div[2]/div[3]\")"
   ]
  },
  {
   "cell_type": "code",
   "execution_count": 7,
   "metadata": {},
   "outputs": [
    {
     "name": "stdout",
     "output_type": "stream",
     "text": [
      "۱۴۰۱/۰۸/۰۸\n",
      "بیانات در دیدار دست‌اندرکاران کنگره شهدای استان قم\n",
      " [دریافت PDF]\n",
      "بسم الله الرّحمن الرّحیم(۱)\n",
      "\n",
      "و الحمدلله ربّ العالمین و الصّلاة و السّلام علی سیّدنا محمّد و آله الطّاهرین سیّما بقیّة الله فی الارضین.\n",
      "\n",
      "اوّلاً خوشامد عرض میکنم به همه‌ی برادران و خواهران عزیزی که از قم تشریف آوردید و تشکّر میکنم از اینکه همّت کردید و مجدّداً این یادواره‌ی لازم و مهم را برای شهدا تشکیل دادید. درباره‌ی اقداماتی که این برادرمان ذکر کردند یک جمله عرض بکنم، بعد وارد بحثهای خودمان بشوم.\n",
      "\n",
      "همه‌ی این اقدامات و این کارهایی که گفتید انجام گرفته خوب است؛ منتها توجّه کنید کارهایی که ما در کنگره و پیش از کنگره و بعد از کنگره انجام میدهیم خواصّ زیادی دارد که دو خاصیّت از همه مهم‌تر است: یکی «یاد»، یکی «پیام». یاد شهیدان باید زنده بماند، پیام شهیدان باید شنیده بشود؛ اگر چنانچه این اقداماتی که ما میکنیم از این دو خالی باشد، فایده‌ای ندارد. حالا مثلاً فرض کنید [درست کردن] مجسّمه‌ی شهید یا تصویر شهید روی فرش و امثال اینها، خب بله، در یک محدوده‌ای ــ حالا یا محدوده‌ی خانواده یا بیشتر ــ اینها یاد است، خوب است، لکن یک چیزهایی هست که میتواند حامل پیام باشد؛ کارهای هنری، شعر، مستند، فیلم، کتاب یا جلسات میتواند حامل پیام باشد؛ ما به این [نوع کارها] احتیاج داریم، به پیام شهدا احتیاج داریم. فکر هم نکنیم که «خب معلوم است، پیام شهدا را که همه بلدند، میدانند»؛ نه، همه نمیدانند. نسلهای نوبه‌نو که می‌آیند باید مطّلع بشوند از آنچه گذشته، و از انگیزه‌ها، فکرها و مانند اینها. کارهایی که مشتمل بر پیام است این خاصیّت بزرگ را دارد؛ در مجموعِ کارهایی که انجام میدهید به این [نکته] توجّه بشود.\n",
      "\n",
      "و امّا بعد از تشکّری که مجدّداً عرض میکنیم به خاطر اینکه این کار را شروع کردید و انجام دادید و ان‌شاءالله به بهترین وجهی به پایان میرسانید، دو مطلب را در دو جمله‌ی کوتاه عرض خواهم کرد؛ یکی درباره‌ی قم، یکی هم درباره‌ی مسئله‌ی شهادت و شهید. قم، هم شهر قیام است، هم شهر اقامه است؛ شهری است که خودش قیام کرد، شهری است که ایران را به قیام وادار کرد، اقامه کرد؛ خصوصیّت قم این است. البتّه ما برکات حضرت فاطمه‌ی معصومه (سلام الله علیها) و وجود حوزه‌ی مبارک علمیّه در این شهر را نباید در تأثیرگذاری در این خصوصیّات از یاد ببریم. در کنار اینها، مردم قم هستند که ما این مردم را از نزدیک دیده‌ایم، کارهایشان را دیده‌ایم، اخلاقشان را دیده‌ایم، خصوصیّاتشان را دیده‌ایم؛ مردم قم انصافاً مردم خوبی هستند، به خطاب قم عمل کردند، زودتر از همه جا قیام کردند، زودتر از همه جا مبارزه کردند، زودتر از همه جا شهید دادند.\n",
      "\n",
      "خیلی از شهدای شهیدشده‌ی در غیر قم هم در واقع شهید قم هستند؛ شهید مطهّری هم شهید قم است، شهید بهشتی هم شهید قم است، شهید باهنر هم شهید قم است؛ این شهدا هم پرورش‌یافته‌های قم‌ هستند و شاید به یک معنا بشود گفت شهدای همه‌ی ایران، شهدای قم هستند. قم این راه را باز کرد، قم حرکت را آغاز کرد، قم به ندای امام بزرگوار پاسخ گفت. چه کسی میفهمید که امام در سال ۴۱ و ۴۲ چه چیزی دارد میگوید؟ مردم قم بودند که آمدند داخل میدان. حتّی آن وقتی که احساس میکردند [نهضت] یک مقداری نُکس(۲) پیدا کرده، در سال ۴۱ که شروع نهضت بود، مردم قم بلند شدند آمدند سر درس امام ــ من آنجا بودم، یادم هست ــ بازاری‌های موجّه قم و یک جمع کثیری دنبال سرشان آمدند پای درس نشستند، امام که درسشان را تمام کردند، یکی از آنها بلند شد ــ مرحوم طباطبائی، اگر اسمش درست یادم مانده باشد ــ و خطاب به امام شروع کرد با حماسه‌ی کامل نطق کردن و ادامه‌ی کار را طلب کردن! در واقع از امام مطالبه کردند، امام هم وارد میدان شدند و در همان جلسه، پاسخ شافی و کافی و وافی را دادند و در عمل، این حرکت را، این جنبش را یک روح تازه‌ای بخشیدند؛ مردم قم این [جور] هستند. جوانهای قم در آن روز، حتّی جوانهایی که اوّل در این وادی هم نبودند، ما میدیدیم بعد از آنکه نهضت روحانیّت شروع شد، چطور گرایش نشان دادند، همدلی نشان دادند؛ این مردم قم هستند. بعد هم انقلاب شد و حوادث بعد از انقلاب و دفاع مقدّس و قضایای بعدی تا امروز؛ تا امروز، این امتحانها پیوسته و پی‌درپی برای ملّت ما و برای آحاد ما وجود دارد و در این امتحانها قمی‌ها امتحان خیلی خوبی دادند؛ خیلی خوب.\n",
      "\n",
      "البتّه نقاط برجسته‌ای هم وجود دارد که من اصرار دارم روی این نقاط برجسته کارِ زیادی بشود؛ [یعنی] همان دو خاصیّت «یاد» و «پیام». یکی از نقاط برجسته همین شهید مهدی زین‌الدّین است؛ خود این یک نقطه‌ی برجسته است. [این] شهید، یک جوان نوخاسته، بیست‌وچندساله، در فرماندهی یک یگان رزمی آن مهارت را از خود نشان میدهد؛ در میدان جنگ آن شجاعت را، آن تدبیر را، آن سازندگی را، آن فداکاری را و بعد در میدان اخلاق، میدان تدیّن، ملاحظات دینی و اسلامی [هم همین جور]. اینها واقعاً فوق‌العاده است؛ بایستی اینها به مردم گفته بشود، منعکس بشود.\n",
      "\n",
      "با هیچ زبانی غیر از زبان هنر هم نمیشود اینها را گفت؛ فقط زبان هنر میتواند این ریزه‌کاری‌های زندگی اینها را بیان کند؛ حالا یا نوشته‌ی هنرمندانه یا شعر یا فیلم یا مستند یا امثال اینها که میشود کار کرد. مثلاً یکی این است: یک فرمانده جوان ارتشی اینجا هست [به نام] شهید امیر احمدلو؛ یک ارتشیِ قمی است که آخرین لحظه‌ی حیاتش آب می‌آورند یا یک نفری به فکر می‌افتد که آب به او بدهد که تشنه از دنیا نرود، این جوان نظامی آب را نمیخورد، اشاره میکند به آن سربازی که بغل دستش بوده؛ یعنی همان حادثه‌ی صدر اسلام(۳) که مدام ماها روی منبرها گفتیم و مردم شنیدند و تصوّر درستی از آن پیدا نکردیم، در واقع اتّفاق افتاد؛ یک افسر ارتشی این واقعیّت را به ما نشان داد. این چیز کمی است؟ چیز کوچکی است؟ با چه زبانی میشود این را بیان کرد جز زبان هنر؟ بروید دنبال این کار. یا شهدای گروه سرود که جزو اتّفاقات نادر در دوران دفاع مقدّس است؛(۴) یک تعدادی نوجوانِ مثلاً دوازده‌ساله، سیزده‌ساله، چهارده‌ساله، سرود میخوانند، بعد هواپیما می‌آید همین گروه را هدف قرار میدهد، شلّیک میکند، همه‌ی آنها ــ همه‌ یا نزدیک به همه ــ شهید میشوند. کو سرودشان؟ چه خواندند؟ چه گفتند؟ چه کردند؟ پدرمادرهایشان چه کار کردند؟ اینها احتیاج به تبیین دارد، اینها پیام دارد. این از خصوصیّات قم است؛ اینها نقاط برجسته‌ی دوره‌ی دفاع [مقدّس] در قم است. یا زنان شهید؛ حالا اشاره کردند به تعداد چندصد نفر زن شهید که یک عدّه‌ از این زنان شهید، در جلسه‌ی عزاداری حسینی به شهادت رسیدند. اینها همه واقعاً مسائل مهمّی است.\n",
      "\n",
      "خب، این راجع به قم و خصوصیّات این دوران پُرحادثه و پُرافتخارِ دورانِ نزدیک به انقلاب تا امروز؛ این چهل و چند سال. هر کدام از این حوادثی که در این دوران هست، یک نقطه‌ی روشن تاریخی است، یک ستاره است. همین حادثه‌ای که چند روز پیش در شاهچراغ اتّفاق افتاد،(۵) این یک ستاره است، این تمام‌شدنی نیست، این میماند در تاریخ، این مایه‌ی افتخار و سربلندی خواهد بود در تاریخ. بله، عدّه‌ای داغدار شدند؛ بعضی از این حوادث، غم‌انگیز [است] و سرشار از اندوه میکند دل انسان را ولیکن ستاره است؛ اینها میماند در تاریخ، اینها حوادثی است که فراموش نمیشود. ما در این چهل و چند سال، چقدر از این حوادث داشته‌ایم! این، نشانه‌ی زنده بودن این ملّت است. حالا این راجع به قم.\n",
      "\n",
      "راجع به شهادت؛ عنوان «شهید» یک عنوانی است که نباید از آن آسان عبور کرد. در کلمه‌ی «شهید»، مجموعه‌ای از ارزشهای دینی و ملّی و انسانی نهفته است. وقتی شما میگویید «شهید»، در واقع این کلمه یک کتاب است؛ مجموعه‌ای از معارف دینی در این کلمه هست، مجموعه‌ای از معارف ملّی در این کلمه هست، مجموعه‌ای از معارف و مکارم اخلاقی در این کلمه هست؛ این کلمه خیلی کلمه‌ی مهمّی است. اینکه شما می‌بینید و می‌شنوید بعضی از این شهدای ما عاشقانه آرزوی شهادت میکردند، خدای متعال یک نوری به دل آنها انداخته بود؛ با این نور یک حقیقتی را میدیدند، این بود که عاشق شهادت بودند. شهید سلیمانی میگفت من دارم در بیابانها دنبال شهادت میدوم، دنبالش میگردم. تهدیدش کردند که تو را میکشیم، گفت من دارم در بیابانها دنبالش میگردم، بلندی و پستی‌ها را طی میکنم دنبال همین؛ من را تهدید میکنید؟ این کتاب را بعضی‌ها یک ورقی زده‌اند، همان آنها را مجذوب کرده، همان آنها را عاشق کرده.\n",
      "\n",
      "خب؛ گفتیم مجموعه‌ای است از معارف دینی، ملّی، اخلاقی. امّا مسائل دینی؛ اوّلین چیزی که شهید به یاد انسان می‌آورد، جهاد فی‌سبیل‌الله است؛ شهید در راه خدا حرکت کرده، مجاهدت کرده، به شهادت رسیده. شهید مظهر ایمان صادق است: صَدَقوا ما عاهَدُوا اللَهَ عَلَیهِ فَمِنهُم مَن قَضىٰ نَحبَه؛(۶) این همان «قَضىٰ نَحبَه» است؛ مظهر صداقت است، مظهر عمل صالح است. چه عملی اصلح از رفتن در راه خدا و تقدیم کردن همه‌ی وجود خود، همه‌ی هستی خود به این راه؟ ایمان صادق، عمل صالح. این جنبه‌ی دینی که حالا در همین کلمات کوتاه، دنیایی از معارف نهفته است.\n",
      "\n",
      "معارف ملّی؛ شهید و شهادت از جمله‌ی چیزهایی است که هویّت ملّی را برجسته میکند و رتبه‌ی هویّت ملّی را بالا میبرد. ملّت ایران به خاطر همین شهادت‌طلبی‌ها در چشم آنهایی که به گوششان رسید ــ البتّه سر و صدا و هیاهوی رسانه‌های دشمن نمیگذارد خیلی از چیزها در دنیا به گوش افراد برسد، امّا آنهایی که به گوششان رسید که کم هم نبودند، خیلی از ملّتها بودند ــ عظمت پیدا کرد؛ به خاطر چه چیزی؟ به خاطر شهید. به خاطر صِرف جنگ نیست؛ جنگ خیلی جاها هست؛ به خاطر این فداکاری‌ها است که در آن شهید از آب درمی‌آید؛ به خاطر این خانواده‌ها است؛ خانواده‌های شهیدان، این پدرها، این مادرها؛ به خاطر اینها است. هر چه خبر اینها به بیرون درز کرد، برای این ملّت عظمت آفرید؛ [لذا شهید] هویّت ملّی را درخشنده میکند، برجسته میکند، رتبه‌اش را بالا میبرد.\n",
      "\n",
      "در مورد معارف اخلاقی و مکارم اخلاقیِ انسانی ــ با قطع نظر از دین ــ که در کلمه‌ی «شهید» نهفته است؛ [مثلاً] فداکاری. شهادت مظهر فداکاری است. کسی جان خودش را برای آسایش دیگران میدهد؛ شهید امنیّت، جان خودش را میدهد برای اینکه دیگران در امنیّت زندگی کنند؛ شهید دفاع مقدّس جان خودش را میدهد برای اینکه آن دشمن خبیث ظالم به آن وعده‌ای که به خودش داده بود ــ که گفته بود تا تهران خواهم رفت و ملّت ایران را به ذلّت خواهم کشید ــ نتواند وفا کند؛ شهید این است دیگر. من و شما نشسته‌ایم در خانه‌مان، او دارد آنجا میجنگد برای اینکه ما راحت بنشینیم، دشمن نیاید به سراغ ما. این فداکاری یک اخلاق [برجسته] است؛ با قطع نظر از هر دین و مذهب و عقیده‌ی دینی‌ای، انسانها این را اهمّیّت میدهند. [شهادت،] شجاعت را تداعی میکند. بنابراین، کلمه‌ی «شهید» تجسّم این همه معارف اخلاقی است.\n",
      "\n",
      "پس بنابراین، شهادت از یک طرف معامله‌ی با خدا است؛ آن صِدقی که هست، معامله‌ی با خدا است: اِنَّ اللَهَ اشتَرىٰ مِنَ المُؤمِنینَ اَنفُسَهُم وَ اَموالَهُم بِاَنَّ لَهُمُ الجَنَّة.(۷) آن طور که یادم هست، از امیرالمؤمنین (علیه السّلام) و از امام سجّاد (علیه السّلام) نقل شده که قیمت جان شما خیلی بالا است، آن را نفروشید مگر به بهشت. این جان خیلی قیمت دارد؛ قیمت وجود شما خیلی بالا است؛ این را فقط به بهشت بفروشید؛ به هیچ چیزی کمتر از بهشت [نفروشید] که خدای متعال هم خریدارش است؛ جان مال خدا است، خدا هم خریدارش است. اِنَّ اللَهَ اشتَرىٰ مِنَ المُؤمِنینَ اَنفُسَهُم وَ اَموالَهُم بِاَنَّ لَهُمُ الجَنَّة؛ پس از یک طرف معامله‌ی با خدا است. از یک طرف تأمین‌کننده‌ی مصالح ملّی است؛ همان تقویت هویّت که گفتیم. شهادت فی‌سبیل‌الله مصالح ملّی را و منافع ملّت را تأمین میکند.\n",
      "\n",
      "شهادت میتواند همدلی ایجاد کند. شما الان نگاه کنید به کشور خود ما؛ خب کشور ما یک مجموعه‌ای از قومیّتهای مختلف است دیگر؛ زبانهای مختلف، قومیّتهای مختلف: فارس داریم، ترک داریم، عرب داریم، لر داریم، بختیاری داریم و امثال اینها، اقوام گوناگون؛ یک نخ تسبیحی اینها را به هم وصل کرده که بخشی از این نخ تسبیح همان شهادت است. شما در هر شهری بروید، می‌بینید نام شهیدی یا شهیدانی در این شهر برجسته است. فرض کنید در شمال این کشور، در جنوب این کشور، شرق کشور، غرب کشور، در هر شهری شما بروید، نام شهیدانی هست که برجسته است. این شهرها ممکن است از هم خیلی خبر نداشته باشند، امّا شهیدان اینها در یک جا با یک هدف در یک صف به شهادت رسیدند. مثلاً شهیدی که مربوط به جنوب کشور است با شهیدی که برخاسته‌ی از شمال کشور یا شرق کشور است، همه در یک صف بودند، برای یک هدف شهید شدند؛ برای عزّت اسلام، برای عظمت جمهوری اسلامی، برای تقویت ایران، برای اینها شهید شدند، برای هدف واحدی شهید شدند. این، این اقوام را، این شهرها را، این مناطق را به هم گره میزند، به هم پیوند میدهد؛ خاصیّت شهادت است. آن جنبه‌ی دینی‌اش که معامله‌ی با خدا است، این جنبه‌ی ملّی‌اش که پیوندزننده‌ی بخشهای مختلف کشور است، آن هم جنبه‌ی اخلاقی که یادآور اخلاقیّات این کشور است.\n",
      "\n",
      "خب؛ من حالا فقط میخواهم یک توصیه عرض کنم در ادامه‌ی مطلبی که اوّلِ صحبت عرض کردم. اینها باید متوقّف نماند. بنده یک وقتی گفتم جنگ یک گنج است؛(۸) واقعاً هم همین جور است. من کتابهای مربوط به شهدا را زیاد میخوانم؛ هر کدام را که میخوانم، کأنّه یک چیز جدیدی انسان از اینها میفهمد. من حالا هم میخوانم؛ ده‌ها سال است، از دهه‌ی ۶۰ تا حالا، این کتابها [را میخوانم]. هر کدام از این کتابها که شرح حال یک شهیدی است، یک صفحه‌ی جدیدی را برای انسان باز میکند و به انسان نشان میدهد؛ چه در مورد خود شهید، چه در مورد این پدرمادرها؛ این مادرهای شجاع، این پدرهای باگذشت. این پدرها و مادرها خیلی حق دارند به گردن ما! که بعضی از پدران و مادران شهدای عزیزمان در این جلسه هم حضور دارند.\n",
      "\n",
      "اینها بایستی منتقل بشود و عرض کردم که انتقالش هم عمدتاً، یعنی شاید صدی نود، به زبان هنر احتیاج دارد. البتّه نمیگوییم تاریخ و کتاب و مانند اینها ننویسند؛ چرا، باید نوشته بشود؛ امّا آن چیزی که این ظرفیّت را دارد که بتواند همه‌ی جزئیّات و ریزه‌کاری‌ها و ظرافتهای این شهادت و شهید و دفاع مقدّس و فداکاری و مانند اینها را منتقل بکند، عبارت است از هنر. حالا مثلاً فرض کنید من یادآوری کردم این گروه سرود را؛ خیلی خب، مستند بسازید برای این؛ یک مستند بسازید برای این گروه سرود، شبیه‌سازی کنید، مردم ببینند به چشم خودشان؛ این اتّفاقی را که افتاده به مردم نشان بدهید ببینند. «مردم» که میگویم، خب ما قدیمی‌ها این چیزها را دیده‌ایم، امّا خیلی از شماها هم که اینجا نشسته‌اید ندیده‌اید؛ جوانهایمان، نسل جدید، ندیده‌اند. اینها ببینند؛ از نزدیک ببینند آنچه اتّفاق افتاد. در همین شرح‌حال‌هایی که برای شهدا هست، این جزئیّات را ببینند. این همه زمینه وجود دارد برای کار هنری، ساختن فیلم‌های مستند، فیلم‌های سینمایی، سریال، شعر! الحمدلله شعرای خوبی داریم، شما هم در قم شعرای خوبی دارید؛ شعر بگویند، شعرهای خوب بگویند برای اینکه این یادها باقی بماند.\n",
      "\n",
      "به هر حال، کار شما کار باارزشی است؛ بنده تقدیر میکنم و امیدوارم که ان‌شاءالله همه‌ی کسانی که دلشان برای اسلام، برای انقلاب، برای این ملّت، برای این جوانها، برای این نسل نوبه‌نو، برای کودکانمان، برای ایران عزیزمان میتپد، هر چه میتوانند، هر چه قدرت دارند، هر چه ظرفیّت دارند، در این زمینه‌ها کار کنند، تلاش کنند، مقوله‌ی شهید و شهادت را با یاد و پیام ان‌شاءالله ادامه بدهند.\n",
      "\n",
      "یاد شهدای عزیز حرم مطهّر حضرت احمدبن‌موسیٰ را گرامی میداریم، به خانواده‌هایشان و به بازماندگانشان عمیقاً تسلیت عرض میکنیم، تبریک هم میگوییم ــ چون مقامشان پیش خدای متعال ان‌شاءالله مقام بسیار بالایی است ــ توفیقات شما را هم از خدا مسئلت میکنیم؛ روح مطهّر امام را هم خدای متعال مشمول رحمت و لطف خودش قرار بدهد که او بود که این راه را به روی همه‌ی ما باز کرد.\n",
      "\n",
      "والسّلام علیکم و رحمةالله و برکاته\n",
      "\n",
      "\n",
      "(۱ در ابتدای این دیدار، حجّت‌الاسلام والمسلمین سیّدمحمّد سعیدی گلپایگانی (تولیت آستان حضرت فاطمه‌ی معصومه و رئیس شورای سیاست‌گذاری کنگره)، آقای سیّدمحمّدتقی شاهچراغی (استاندار قم و رئیس کنگره)، سرتیپ دوّم پاسدار محمّدرضا موحّد (فرمانده سپاه علیّ‌بن‌ابی‌طالب و دبیر کنگره)  گزارشهایی ارائه کردند.\n",
      "(۲ ضعف، سستی\n",
      "(۳ شبیه همین اتّفاق در جنگ موته ــ که میان سپاهیان اسلام و روم واقع شد ــ رخ داد.\n",
      "(۴ دانش‌آموزان گروه سرود مدرسه‌ی راهنمایی قطب راوندی، در روز اوّل بهمن سال ۱۳۶۵، ساعتی پس از اجرای سرودشان در سینما تربیت قم، بر اثر بمباران هوایی دشمن به شهادت رسیدند.\n",
      "(۵ در غروب روز چهارشنبه چهارم آبان سال ۱۴۰۱، فردی مسلّح پس از ورود به حرم مطهّر حضرت احمدبن‌موسیٰ (علیه السّلام) به سوی زائران تیراندازی کرد که در این حادثه ۱۳ نفر به شهادت رسیدند و تعدادی نیز مجروح شدند. پس از این حادثه، گروه تروریستی داعش مسئولیّت این حمله را به عهده گرفت.  \n",
      "(۶ سوره‌ی احزاب، بخشی از آیه‌ی ۲۳؛ «... به آنچه با خدا عهد بستند صادقانه وفا کردند؛ برخى از آنان به شهادت رسیدند. ...»\n",
      "(۷ سوره‌ی توبه، بخشی از آیه‌ی ۱۱۱؛ «در حقیقت، خدا از مؤمنان، جان و مالشان را به [بهاى] اینکه بهشت براى آنان باشد، خریده است. ...»\n",
      "(۸ بیانات در دیدار مسئولان دفتر هنر و ادبیّات مقاومت (۱۳۷۰/۴/۲۵)\n"
     ]
    }
   ],
   "source": [
    "print(x[0].text)"
   ]
  },
  {
   "cell_type": "code",
   "execution_count": 26,
   "metadata": {},
   "outputs": [],
   "source": [
    "url = \"https://tasree.ae/\"\n",
    "ext_value = \"//*[@id='main-box']/h4\""
   ]
  },
  {
   "cell_type": "code",
   "execution_count": 29,
   "metadata": {},
   "outputs": [
    {
     "name": "stdout",
     "output_type": "stream",
     "text": [
      "At Tasree . . .\n"
     ]
    }
   ],
   "source": [
    "driver.get(url)\n",
    "\n",
    "x = driver.find_element(By.XPATH, ext_value)\n",
    "\n",
    "print(x.text)"
   ]
  },
  {
   "cell_type": "code",
   "execution_count": 30,
   "metadata": {},
   "outputs": [],
   "source": [
    "import requests"
   ]
  },
  {
   "cell_type": "code",
   "execution_count": 41,
   "metadata": {},
   "outputs": [
    {
     "name": "stdout",
     "output_type": "stream",
     "text": [
      "{\"detail\":[{\"type\":\"dict_type\",\"loc\":[\"body\"],\"msg\":\"Input should be a valid dictionary\",\"input\":\"urls=https%3A%2F%2Fwww.tabnak.ir&fields=name&fields=multi&fields=file&fields=ext_type&fields=ext_value\",\"url\":\"https://errors.pydantic.dev/2.4/v/dict_type\"}]}\n"
     ]
    }
   ],
   "source": [
    "url = 'http://127.0.0.1:8000/crawlin'\n",
    "data = {\n",
    "    \"urls\" : [\"https://www.tabnak.ir\"],\n",
    "    \"fields\" : [{\n",
    "            \"name\" : \"ali\",\n",
    "            \"multi\" : \"True\",\n",
    "            \"file\" : \"True\",\n",
    "            \"ext_type\" : \"CLASS_NAME\",\n",
    "            \"ext_value\" : \"title_main\"\n",
    "        }]\n",
    "}\n",
    "\n",
    "response = requests.post(url, data=data)\n",
    "\n",
    "print(response.text)\n"
   ]
  },
  {
   "cell_type": "code",
   "execution_count": 8,
   "metadata": {},
   "outputs": [],
   "source": [
    "import string    \n",
    "import random"
   ]
  },
  {
   "cell_type": "code",
   "execution_count": 9,
   "metadata": {},
   "outputs": [],
   "source": [
    "data = [\n",
    "    {\n",
    "        \"url\": \"https://www.tabnak.ir/fa/news/1220405\",\n",
    "        \"response\": [\n",
    "            {\n",
    "                \"name\": \"title\",\n",
    "                \"content\": [\n",
    "                    \"طلب اتوبوس مجانی از تولیدکنندگان داخلی همزمان با خرید میلیارد دلاری در چین!\"\n",
    "                ]\n",
    "            },\n",
    "            {\n",
    "                \"name\": \"short description\",\n",
    "                \"content\": \"تامین اتوبوس برای مدت طولانی در اولویت کاری مسئولان نبوده و حالا که اوضاع وخیم شده و آلودگی هوا هم شدت گرفته، تامین نسخه پاک و برقی، آن هم در زمانی کوتاه را در دستور کار قرار داده‌اند و آنقدر این مسیر را پرشتاب پی گرفته اند که حتی فراموش کرده اند پول سفارش ثبت شده را بپردازند! پولی که حالا قرار است چندین برابرش را به شیوه ارزی بپردازند!\"\n",
    "            }\n",
    "        ]\n",
    "    },\n",
    "    # {\n",
    "    #     \"url\": \"https://www.tabnak.ir/fa/news/1220397\",\n",
    "    #     \"response\": [\n",
    "    #         {\n",
    "    #             \"name\": \"title\",\n",
    "    #             \"content\": [\n",
    "    #                 \"کشته شدن ۳ آمریکایی و مجروح شدن ۱۴۳ تن در حملات نیروهای مقاومت/ نامه ایران به شورای امنیت درباره اتهامات آمریکا/ درخواست عراق برای ازسرگیری مذاکرات برای خروج نیروهای آمریکایی\"\n",
    "    #             ]\n",
    "    #         },\n",
    "    #         {\n",
    "    #             \"name\": \"short description\",\n",
    "    #             \"content\": \"کشته شدن ۳ آمریکایی و مجروح شدن ۱۴۳ تن در حملات نیرو‌های مقاومت، نامه ایران به شورای امنیت درباره اتهامات آمریکا، درخواست عراق برای ازسرگیری مذاکرات برای خروج نیرو‌های آمریکایی، رزمایش هوایی و دریایی آمریکا و ژاپن و برگزاری انتخابات زودهنگام در جمهوری آذربایجان، از مهم‌ترین خبر‌ها و رویداد‌های منطقه‌ای و بین المللی در ۲۴ ساعت گذشته بوده اند.\"\n",
    "    #         }\n",
    "    #     ]\n",
    "    # }\n",
    "]"
   ]
  },
  {
   "cell_type": "code",
   "execution_count": 18,
   "metadata": {},
   "outputs": [
    {
     "name": "stdout",
     "output_type": "stream",
     "text": [
      "[{'name': 'title', 'content': ['طلب اتوبوس مجانی از تولیدکنندگان داخلی همزمان با خرید میلیارد دلاری در چین!']}, {'name': 'short description', 'content': 'تامین اتوبوس برای مدت طولانی در اولویت کاری مسئولان نبوده و حالا که اوضاع وخیم شده و آلودگی هوا هم شدت گرفته، تامین نسخه پاک و برقی، آن هم در زمانی کوتاه را در دستور کار قرار داده\\u200cاند و آنقدر این مسیر را پرشتاب پی گرفته اند که حتی فراموش کرده اند پول سفارش ثبت شده را بپردازند! پولی که حالا قرار است چندین برابرش را به شیوه ارزی بپردازند!'}]\n"
     ]
    }
   ],
   "source": [
    "def create_csv(data):\n",
    "\n",
    "    # data = data[0]\n",
    "\n",
    "    for url in data:\n",
    "\n",
    "        filename = ''.join(random.choices(string.ascii_letters + string.digits, k = 10))\n",
    "\n",
    "        filename = \"outputs/output - \" + filename\n",
    "    \n",
    "        with open (filename, \"a\", newline = \"\") as csvfile:\n",
    "\n",
    "            \n",
    "\n",
    "            print(url[\"response\"])\n",
    "\n",
    "\n",
    "            # for i in url :\n",
    "            #     row_data = []\n",
    "            #     print(i)\n",
    "\n",
    "            # movies = csv.writer(csvfile)\n",
    "            # test_list1.append(data)\n",
    "            # movies.writerow(data)\n",
    "            # test_list1.clear()\n",
    "        \n",
    "        csvfile.close()\n",
    "\n",
    "\n",
    "create_csv(data)"
   ]
  },
  {
   "cell_type": "code",
   "execution_count": 2,
   "metadata": {},
   "outputs": [
    {
     "name": "stdout",
     "output_type": "stream",
     "text": [
      "['tasree', 'Tasree', 'Tasree', 'Tasree', 'tasree']\n"
     ]
    }
   ],
   "source": [
    "import re\n",
    "\n",
    "# متن HTML را به عنوان متغیر ذخیره کنید\n",
    "html_text = \"\"\"\n",
    "\n",
    "\n",
    "\n",
    "<!DOCTYPE html>\n",
    "<html>\n",
    "\n",
    "    <head>\n",
    "\n",
    "        <link rel=\"icon\" type=\"image/x-icon\" href=\"/photos/thumbnail/Android.png\">\n",
    "\n",
    "        <script src=\"https://cdn.jsdelivr.net/npm/jquery@3.6.4/dist/jquery.slim.min.js\"></script>\n",
    "        <script src=\"https://cdn.jsdelivr.net/npm/popper.js@1.16.1/dist/umd/popper.min.js\"></script>\n",
    "        <script src=\"https://cdn.jsdelivr.net/npm/bootstrap@4.6.2/dist/js/bootstrap.bundle.min.js\"></script>\n",
    "\n",
    "        <meta charset=\"UTF-8\">\n",
    "        <meta name=\"viewport\" content=\"width=device-width, initial-scale=1, shrink-to-fit=no\">\n",
    "        <title>\n",
    "            HOME\n",
    "        </title>\n",
    "\n",
    "        <link rel=\"stylesheet\" href=\"/static/css/base/bootstrap.css\">\n",
    "        <link rel=\"stylesheet\" href=\"/static/css/base/base-style.css\">\n",
    "\n",
    "        \n",
    "\n",
    "    </head>\n",
    "\n",
    "    <body>\n",
    "\n",
    "    <div class=\"container-fluid\">\n",
    "\n",
    "        <br/>\n",
    "        <hr/>\n",
    "\n",
    "        <div class=\"row\">\n",
    "\n",
    "            <div class=\"col-md-2\"></div>\n",
    "\n",
    "            <div class=\"col-md-2\">\n",
    "                <img id=\"logo\" src=\"/photos/header_logo/Black_logo_-_no_background.png\"/>\n",
    "                \n",
    "            </div>\n",
    "            <div class=\"col-md-2\"></div>\n",
    "            <div class=\"col-md-2\">\n",
    "                <div class=\"row\">\n",
    "\n",
    "                    <div class=\"col-2\">\n",
    "                        <img id=\"phone-icon\" src=\"/static/image/telephone-handle-silhouette.png\">\n",
    "                    </div>\n",
    "\n",
    "                    <div class=\"col-10\">\n",
    "                        <p>+971 (50) 866-1133</p>\n",
    "                        <p>info@tasree.ae</p>\n",
    "\n",
    "                    </div>\n",
    "\n",
    "                </div>\n",
    "            </div>\n",
    "\n",
    "            <div class=\"col-md-2\">\n",
    "                <div class=\"row\">\n",
    "\n",
    "                    <div class=\"col-2\">\n",
    "                        <img id=\"phone-icon\" src=\"/static/image/map.png\">\n",
    "                    </div>\n",
    "\n",
    "                    <div class=\"col-10\">\n",
    "                        <p>Dubai, UAE Sobha Hartland Nad Al Shaba</p>\n",
    "                    </div>\n",
    "\n",
    "                </div>\n",
    "            </div>\n",
    "\n",
    "            <div class=\"col-md-2\"></div>\n",
    "\n",
    "        </div>\n",
    "\n",
    "        <hr/>\n",
    "\n",
    "        <div class=\"row text-center\">\n",
    "            <div class=\"col-1\"></div>\n",
    "            <div class=\"col-10 text-center\">\n",
    "                <div class=\"menu-container\">\n",
    "                    <nav class=\"navbar navbar-expand-lg navbar-light bg-light\">\n",
    "\n",
    "                    <button class=\"navbar-toggler\" type=\"button\" data-toggle=\"collapse\" data-target=\"#navbarNavAltMarkup\" aria-controls=\"navbarNavAltMarkup\" aria-expanded=\"false\" aria-label=\"Toggle navigation\">\n",
    "                        <span class=\"navbar-toggler-icon\"></span>\n",
    "                    </button>\n",
    "\n",
    "                    <div class=\"collapse navbar-collapse\" id=\"navbarNavAltMarkup\">\n",
    "                        <div class=\"navbar-nav\">\n",
    "                            <a class=\"nav-link\" href=\"/\">HOME</a>\n",
    "                            <a class=\"nav-link\" href=\"/ABOUT-US\">ABOUT US</a>\n",
    "                            <a class=\"nav-link\" href=\"/OUR-SERVICES\">OUR SERVICES</a>\n",
    "                        </div>\n",
    "                    </div>\n",
    "                </nav>\n",
    "                </div>\n",
    "            </div>\n",
    "            <div class=\"col-1\"></div>\n",
    "\n",
    "        </div>\n",
    "\n",
    "        <hr/>\n",
    "\n",
    "        <div class=\"row\">\n",
    "            <div class=\"col-12\">\n",
    "                <div id=\"mySlider\" class=\"carousel slide\" data-ride=\"carousel\">\n",
    "                    <!-- Indicators -->\n",
    "                    <ul class=\"carousel-indicators\">\n",
    "                        <li data-target=\"#mySlider\" data-slide-to=\"0\" class=\"active\"></li>\n",
    "                        <li data-target=\"#mySlider\" data-slide-to=\"1\"></li>\n",
    "                        <li data-target=\"#mySlider\" data-slide-to=\"2\"></li>\n",
    "                        <li data-target=\"#mySlider\" data-slide-to=\"3\"></li>\n",
    "                    </ul>\n",
    "\n",
    "                    <!-- Slides -->\n",
    "                    <div class=\"carousel-inner\">\n",
    "                        \n",
    "    \n",
    "        <div class=\"carousel-item active bd-container-inner-wrapper\">\n",
    "            <img style=\"object-fit: cover;\" width=\"1829px\" height=\"445px\" src=\"/photos/slider/jpeg-optimizer_04.jpeg\" alt=\"Image 1\">\n",
    "        </div>\n",
    "    \n",
    "        <div class=\"carousel-item  bd-container-inner-wrapper\">\n",
    "            <img style=\"object-fit: cover;\" width=\"1829px\" height=\"445px\" src=\"/photos/slider/jpeg-optimizer_01_kAODmh9.jpeg\" alt=\"Image 1\">\n",
    "        </div>\n",
    "    \n",
    "        <div class=\"carousel-item  bd-container-inner-wrapper\">\n",
    "            <img style=\"object-fit: cover;\" width=\"1829px\" height=\"445px\" src=\"/photos/slider/jpeg-optimizer_02_sph4u6O.jpeg\" alt=\"Image 1\">\n",
    "        </div>\n",
    "    \n",
    "        <div class=\"carousel-item  bd-container-inner-wrapper\">\n",
    "            <img style=\"object-fit: cover;\" width=\"1829px\" height=\"445px\" src=\"/photos/slider/jpeg-optimizer_03_p4zAERy.jpeg\" alt=\"Image 1\">\n",
    "        </div>\n",
    "    \n",
    "\n",
    "                    </div>\n",
    "\n",
    "                    <!-- Controls -->\n",
    "                    <a class=\"carousel-control-prev\" href=\"#mySlider\" role=\"button\" data-slide=\"prev\">\n",
    "                        <span class=\"carousel-control-prev-icon\" aria-hidden=\"true\"></span>\n",
    "                        <span class=\"sr-only\">Previous</span>\n",
    "                    </a>\n",
    "\n",
    "                    <a class=\"carousel-control-next\" href=\"#mySlider\" role=\"button\" data-slide=\"next\">\n",
    "                        <span class=\"carousel-control-next-icon\" aria-hidden=\"true\"></span>\n",
    "                        <span class=\"sr-only\">Next</span>\n",
    "                    </a>\n",
    "                </div>\n",
    "            </div>\n",
    "        </div>\n",
    "\n",
    "        <br/>\n",
    "\n",
    "        \n",
    "\n",
    "    <div class=\"row\">\n",
    "        <div class=\"col-md-2\"></div>\n",
    "\n",
    "        <div class=\"col-md-2\">\n",
    "            <div class=\"row\">\n",
    "                <div class=\"col-12\">\n",
    "                    <p id=\"contact-us-header\">CONTACT US!</p>\n",
    "                </div>\n",
    "            </div>\n",
    "\n",
    "            <div class=\"row text-center\">\n",
    "                <div class=\"col-12\">\n",
    "                    <div class=\"contact-us-box\">\n",
    "\n",
    "                        <form method=\"post\" action=\"/\">\n",
    "                            <input type=\"hidden\" name=\"csrfmiddlewaretoken\" value=\"8wlTiGlSUfPSuccsxoK56AXcCcTVWmwkyU9XRoUaND0NvqlVc0IdRbI6kOuPpk1T\">\n",
    "\n",
    "                            <input type=\"text\" name=\"name\" class=\"form-control\" placeholder=\"Name\" required id=\"id_name\">\n",
    "                            \n",
    "\n",
    "                            <br/>\n",
    "\n",
    "                            <input type=\"email\" name=\"email\" class=\"form-control\" placeholder=\"Email\" maxlength=\"320\" required id=\"id_email\">\n",
    "                            \n",
    "\n",
    "                            <br/>\n",
    "                            <textarea name=\"message\" cols=\"40\" rows=\"10\" class=\"form-control\" placeholder=\"Plase include as much detail as possible.\" required id=\"id_message\">\n",
    "</textarea>\n",
    "                            \n",
    "\n",
    "\n",
    "\n",
    "                            <br/>\n",
    "\n",
    "                            <button class=\"btn btn-secondary\" type=\"submit\">Send</button>\n",
    "                        </form>\n",
    "\n",
    "                    </div>\n",
    "                </div>\n",
    "\n",
    "            </div>\n",
    "        </div>\n",
    "\n",
    "        <div class=\"col-md-6\">\n",
    "\n",
    "            <div id=\"main-box\">\n",
    "\n",
    "                <br/>\n",
    "\n",
    "                \n",
    "                    <h4 style=\"text-align: center;\">At Tasree . . .</h4>\n",
    "                \n",
    "\n",
    "                <br/>\n",
    "\n",
    "                \n",
    "                    <p style=\"text-align: justify;\">At Tasree, Our innovative Paperless valet service is design to enhance guest services, increasing revenue for your business and promote sustainability-all while eliminating the waiting time.</p>\n",
    "                \n",
    "\n",
    "                <br/>\n",
    "\n",
    "                \n",
    "\n",
    "                <br/>\n",
    "\n",
    "                \n",
    "                    <p style=\"text-align: justify;\">committed for develirying Exceptional guest experiencing While prioritizing , we are delighted to serve you as best industry solution.</p>\n",
    "                \n",
    "\n",
    "                <br/>\n",
    "\n",
    "                \n",
    "\n",
    "                <br/>\n",
    "\n",
    "                \n",
    "                    <p style=\"text-align: justify;\">I love Tasree because their leaders are progressive, and they always want to satisfy my needs.</p>\n",
    "                \n",
    "\n",
    "                <br/>\n",
    "\n",
    "            </div>\n",
    "        </div>\n",
    "\n",
    "        <div class=\"col-md-2\"></div>\n",
    "\n",
    "    </div>\n",
    "\n",
    "\n",
    "\n",
    "        <br/>\n",
    "\n",
    "        <div class=\"row\">\n",
    "            <div class=\"col-12\">\n",
    "                <div id=\"footer\">\n",
    "                    <p>tasree.ae</p>\n",
    "\n",
    "                </div>\n",
    "            </div>\n",
    "        </div>\n",
    "\n",
    "\n",
    "    </div>\n",
    "\n",
    "    <script src=\"https://cdn.jsdelivr.net/npm/jquery@3.6.4/dist/jquery.slim.min.js\"></script>\n",
    "    <script src=\"https://cdn.jsdelivr.net/npm/popper.js@1.16.1/dist/umd/popper.min.js\"></script>\n",
    "    <script src=\"https://cdn.jsdelivr.net/npm/bootstrap@4.6.2/dist/js/bootstrap.bundle.min.js\"></script>\n",
    "\n",
    "    </body>\n",
    "\n",
    "</html>\n",
    "\"\"\"\n",
    "\n",
    "pattern = r'Tasree'\n",
    "\n",
    "matches = re.findall(pattern, html_text, re.IGNORECASE)\n",
    "\n",
    "print(matches)\n"
   ]
  },
  {
   "cell_type": "code",
   "execution_count": 3,
   "metadata": {},
   "outputs": [],
   "source": [
    "source = \"<html><head>\\n\\n        <link rel=\\\"icon\\\" type=\\\"image/x-icon\\\" href=\\\"/photos/thumbnail/Android.png\\\">\\n\\n        <script src=\\\"https://cdn.jsdelivr.net/npm/jquery@3.6.4/dist/jquery.slim.min.js\\\"></script>\\n        <script src=\\\"https://cdn.jsdelivr.net/npm/popper.js@1.16.1/dist/umd/popper.min.js\\\"></script>\\n        <script src=\\\"https://cdn.jsdelivr.net/npm/bootstrap@4.6.2/dist/js/bootstrap.bundle.min.js\\\"></script>\\n\\n        <meta charset=\\\"UTF-8\\\">\\n        <meta name=\\\"viewport\\\" content=\\\"width=device-width, initial-scale=1, shrink-to-fit=no\\\">\\n        <title>\\n            HOME\\n        </title>\\n\\n        <link rel=\\\"stylesheet\\\" href=\\\"/static/css/base/bootstrap.css\\\">\\n        <link rel=\\\"stylesheet\\\" href=\\\"/static/css/base/base-style.css\\\">\\n\\n        \\n\\n    </head>\\n\\n    <body>\\n\\n    <div class=\\\"container-fluid\\\">\\n\\n        <br>\\n        <hr>\\n\\n        <div class=\\\"row\\\">\\n\\n            <div class=\\\"col-md-2\\\"></div>\\n\\n            <div class=\\\"col-md-2\\\">\\n                <img id=\\\"logo\\\" src=\\\"/photos/header_logo/Black_logo_-_no_background.png\\\">\\n                \\n            </div>\\n            <div class=\\\"col-md-2\\\"></div>\\n            <div class=\\\"col-md-2\\\">\\n                <div class=\\\"row\\\">\\n\\n                    <div class=\\\"col-2\\\">\\n                        <img id=\\\"phone-icon\\\" src=\\\"/static/image/telephone-handle-silhouette.png\\\">\\n                    </div>\\n\\n                    <div class=\\\"col-10\\\">\\n                        <p>+971 (50) 866-1133</p>\\n                        <p>info@tasree.ae</p>\\n\\n                    </div>\\n\\n                </div>\\n            </div>\\n\\n            <div class=\\\"col-md-2\\\">\\n                <div class=\\\"row\\\">\\n\\n                    <div class=\\\"col-2\\\">\\n                        <img id=\\\"phone-icon\\\" src=\\\"/static/image/map.png\\\">\\n                    </div>\\n\\n                    <div class=\\\"col-10\\\">\\n                        <p>Dubai, UAE Sobha Hartland Nad Al Shaba</p>\\n                    </div>\\n\\n                </div>\\n            </div>\\n\\n            <div class=\\\"col-md-2\\\"></div>\\n\\n        </div>\\n\\n        <hr>\\n\\n        <div class=\\\"row text-center\\\">\\n            <div class=\\\"col-1\\\"></div>\\n            <div class=\\\"col-10 text-center\\\">\\n                <div class=\\\"menu-container\\\">\\n                    <nav class=\\\"navbar navbar-expand-lg navbar-light bg-light\\\">\\n\\n                    <button class=\\\"navbar-toggler\\\" type=\\\"button\\\" data-toggle=\\\"collapse\\\" data-target=\\\"#navbarNavAltMarkup\\\" aria-controls=\\\"navbarNavAltMarkup\\\" aria-expanded=\\\"false\\\" aria-label=\\\"Toggle navigation\\\">\\n                        <span class=\\\"navbar-toggler-icon\\\"></span>\\n                    </button>\\n\\n                    <div class=\\\"collapse navbar-collapse\\\" id=\\\"navbarNavAltMarkup\\\">\\n                        <div class=\\\"navbar-nav\\\">\\n                            <a class=\\\"nav-link\\\" href=\\\"/\\\">HOME</a>\\n                            <a class=\\\"nav-link\\\" href=\\\"/ABOUT-US\\\">ABOUT US</a>\\n                            <a class=\\\"nav-link\\\" href=\\\"/OUR-SERVICES\\\">OUR SERVICES</a>\\n                        </div>\\n                    </div>\\n                </nav>\\n                </div>\\n            </div>\\n            <div class=\\\"col-1\\\"></div>\\n\\n        </div>\\n\\n        <hr>\\n\\n        <div class=\\\"row\\\">\\n            <div class=\\\"col-12\\\">\\n                <div id=\\\"mySlider\\\" class=\\\"carousel slide\\\" data-ride=\\\"carousel\\\">\\n                    <!-- Indicators -->\\n                    <ul class=\\\"carousel-indicators\\\">\\n                        <li data-target=\\\"#mySlider\\\" data-slide-to=\\\"0\\\" class=\\\"active\\\"></li>\\n                        <li data-target=\\\"#mySlider\\\" data-slide-to=\\\"1\\\"></li>\\n                        <li data-target=\\\"#mySlider\\\" data-slide-to=\\\"2\\\"></li>\\n                        <li data-target=\\\"#mySlider\\\" data-slide-to=\\\"3\\\"></li>\\n                    </ul>\\n\\n                    <!-- Slides -->\\n                    <div class=\\\"carousel-inner\\\">\\n                        \\n    \\n        <div class=\\\"carousel-item active bd-container-inner-wrapper\\\">\\n            <img style=\\\"object-fit: cover;\\\" width=\\\"1829px\\\" height=\\\"445px\\\" src=\\\"/photos/slider/jpeg-optimizer_04.jpeg\\\" alt=\\\"Image 1\\\">\\n        </div>\\n    \\n        <div class=\\\"carousel-item  bd-container-inner-wrapper\\\">\\n            <img style=\\\"object-fit: cover;\\\" width=\\\"1829px\\\" height=\\\"445px\\\" src=\\\"/photos/slider/jpeg-optimizer_01_kAODmh9.jpeg\\\" alt=\\\"Image 1\\\">\\n        </div>\\n    \\n        <div class=\\\"carousel-item  bd-container-inner-wrapper\\\">\\n            <img style=\\\"object-fit: cover;\\\" width=\\\"1829px\\\" height=\\\"445px\\\" src=\\\"/photos/slider/jpeg-optimizer_02_sph4u6O.jpeg\\\" alt=\\\"Image 1\\\">\\n        </div>\\n    \\n        <div class=\\\"carousel-item  bd-container-inner-wrapper\\\">\\n            <img style=\\\"object-fit: cover;\\\" width=\\\"1829px\\\" height=\\\"445px\\\" src=\\\"/photos/slider/jpeg-optimizer_03_p4zAERy.jpeg\\\" alt=\\\"Image 1\\\">\\n        </div>\\n    \\n\\n                    </div>\\n\\n                    <!-- Controls -->\\n                    <a class=\\\"carousel-control-prev\\\" href=\\\"#mySlider\\\" role=\\\"button\\\" data-slide=\\\"prev\\\">\\n                        <span class=\\\"carousel-control-prev-icon\\\" aria-hidden=\\\"true\\\"></span>\\n                        <span class=\\\"sr-only\\\">Previous</span>\\n                    </a>\\n\\n                    <a class=\\\"carousel-control-next\\\" href=\\\"#mySlider\\\" role=\\\"button\\\" data-slide=\\\"next\\\">\\n                        <span class=\\\"carousel-control-next-icon\\\" aria-hidden=\\\"true\\\"></span>\\n                        <span class=\\\"sr-only\\\">Next</span>\\n                    </a>\\n                </div>\\n            </div>\\n        </div>\\n\\n        <br>\\n\\n        \\n\\n    <div class=\\\"row\\\">\\n        <div class=\\\"col-md-2\\\"></div>\\n\\n        <div class=\\\"col-md-2\\\">\\n            <div class=\\\"row\\\">\\n                <div class=\\\"col-12\\\">\\n                    <p id=\\\"contact-us-header\\\">CONTACT US!</p>\\n                </div>\\n            </div>\\n\\n            <div class=\\\"row text-center\\\">\\n                <div class=\\\"col-12\\\">\\n                    <div class=\\\"contact-us-box\\\">\\n\\n                        <form method=\\\"post\\\" action=\\\"/\\\">\\n                            <input type=\\\"hidden\\\" name=\\\"csrfmiddlewaretoken\\\" value=\\\"uKokd6WdRiNhzk8ckJBFDSm2RKLsLV4m3wdnUYhy4w0IFQkWRup6eo3DV37Atf7y\\\">\\n\\n                            <input type=\\\"text\\\" name=\\\"name\\\" class=\\\"form-control\\\" placeholder=\\\"Name\\\" required=\\\"\\\" id=\\\"id_name\\\">\\n                            \\n\\n                            <br>\\n\\n                            <input type=\\\"email\\\" name=\\\"email\\\" class=\\\"form-control\\\" placeholder=\\\"Email\\\" maxlength=\\\"320\\\" required=\\\"\\\" id=\\\"id_email\\\">\\n                            \\n\\n                            <br>\\n                            <textarea name=\\\"message\\\" cols=\\\"40\\\" rows=\\\"10\\\" class=\\\"form-control\\\" placeholder=\\\"Plase include as much detail as possible.\\\" required=\\\"\\\" id=\\\"id_message\\\"></textarea>\\n                            \\n\\n\\n\\n                            <br>\\n\\n                            <button class=\\\"btn btn-secondary\\\" type=\\\"submit\\\">Send</button>\\n                        </form>\\n\\n                    </div>\\n                </div>\\n\\n            </div>\\n        </div>\\n\\n        <div class=\\\"col-md-6\\\">\\n\\n            <div id=\\\"main-box\\\">\\n\\n                <br>\\n\\n                \\n                    <h4 style=\\\"text-align: center;\\\">At Tasree . . .</h4>\\n                \\n\\n                <br>\\n\\n                \\n                    <p style=\\\"text-align: justify;\\\">At Tasree, Our innovative Paperless valet service is design to enhance guest services, increasing revenue for your business and promote sustainability-all while eliminating the waiting time.</p>\\n                \\n\\n                <br>\\n\\n                \\n\\n                <br>\\n\\n                \\n                    <p style=\\\"text-align: justify;\\\">committed for develirying Exceptional guest experiencing While prioritizing , we are delighted to serve you as best industry solution.</p>\\n                \\n\\n                <br>\\n\\n                \\n\\n                <br>\\n\\n                \\n                    <p style=\\\"text-align: justify;\\\">I love Tasree because their leaders are progressive, and they always want to satisfy my needs.</p>\\n                \\n\\n                <br>\\n\\n            </div>\\n        </div>\\n\\n        <div class=\\\"col-md-2\\\"></div>\\n\\n    </div>\\n\\n\\n\\n        <br>\\n\\n        <div class=\\\"row\\\">\\n            <div class=\\\"col-12\\\">\\n                <div id=\\\"footer\\\">\\n                    <p>tasree.ae</p>\\n\\n                </div>\\n            </div>\\n        </div>\\n\\n\\n    </div>\\n\\n    <script src=\\\"https://cdn.jsdelivr.net/npm/jquery@3.6.4/dist/jquery.slim.min.js\\\"></script>\\n    <script src=\\\"https://cdn.jsdelivr.net/npm/popper.js@1.16.1/dist/umd/popper.min.js\\\"></script>\\n    <script src=\\\"https://cdn.jsdelivr.net/npm/bootstrap@4.6.2/dist/js/bootstrap.bundle.min.js\\\"></script>\\n\\n    \\n\\n</body></html>\""
   ]
  },
  {
   "cell_type": "code",
   "execution_count": 15,
   "metadata": {},
   "outputs": [],
   "source": [
    "pattern = \"r'Tasree'\""
   ]
  },
  {
   "cell_type": "code",
   "execution_count": 16,
   "metadata": {},
   "outputs": [
    {
     "data": {
      "text/plain": [
       "\"r'Tasree'\""
      ]
     },
     "execution_count": 16,
     "metadata": {},
     "output_type": "execute_result"
    }
   ],
   "source": [
    "pattern"
   ]
  },
  {
   "cell_type": "code",
   "execution_count": 18,
   "metadata": {},
   "outputs": [
    {
     "data": {
      "text/plain": [
       "\"'Tasre\""
      ]
     },
     "execution_count": 18,
     "metadata": {},
     "output_type": "execute_result"
    }
   ],
   "source": [
    "pattern = pattern[1:len(pattern)-1]\n",
    "pattern"
   ]
  },
  {
   "cell_type": "code",
   "execution_count": 31,
   "metadata": {},
   "outputs": [
    {
     "data": {
      "text/plain": [
       "['tasree', 'Tasree', 'Tasree', 'Tasree', 'tasree']"
      ]
     },
     "execution_count": 31,
     "metadata": {},
     "output_type": "execute_result"
    }
   ],
   "source": [
    "matches = re.findall(r'Tasree', source, re.IGNORECASE)\n",
    "matches"
   ]
  },
  {
   "cell_type": "code",
   "execution_count": 32,
   "metadata": {},
   "outputs": [
    {
     "data": {
      "text/plain": [
       "'<html><head>\\n\\n        <link rel=\"icon\" type=\"image/x-icon\" href=\"/photos/thumbnail/Android.png\">\\n\\n        <script src=\"https://cdn.jsdelivr.net/npm/jquery@3.6.4/dist/jquery.slim.min.js\"></script>\\n        <script src=\"https://cdn.jsdelivr.net/npm/popper.js@1.16.1/dist/umd/popper.min.js\"></script>\\n        <script src=\"https://cdn.jsdelivr.net/npm/bootstrap@4.6.2/dist/js/bootstrap.bundle.min.js\"></script>\\n\\n        <meta charset=\"UTF-8\">\\n        <meta name=\"viewport\" content=\"width=device-width, initial-scale=1, shrink-to-fit=no\">\\n        <title>\\n            HOME\\n        </title>\\n\\n        <link rel=\"stylesheet\" href=\"/static/css/base/bootstrap.css\">\\n        <link rel=\"stylesheet\" href=\"/static/css/base/base-style.css\">\\n\\n        \\n\\n    </head>\\n\\n    <body>\\n\\n    <div class=\"container-fluid\">\\n\\n        <br>\\n        <hr>\\n\\n        <div class=\"row\">\\n\\n            <div class=\"col-md-2\"></div>\\n\\n            <div class=\"col-md-2\">\\n                <img id=\"logo\" src=\"/photos/header_logo/Black_logo_-_no_background.png\">\\n                \\n            </div>\\n            <div class=\"col-md-2\"></div>\\n            <div class=\"col-md-2\">\\n                <div class=\"row\">\\n\\n                    <div class=\"col-2\">\\n                        <img id=\"phone-icon\" src=\"/static/image/telephone-handle-silhouette.png\">\\n                    </div>\\n\\n                    <div class=\"col-10\">\\n                        <p>+971 (50) 866-1133</p>\\n                        <p>info@tasree.ae</p>\\n\\n                    </div>\\n\\n                </div>\\n            </div>\\n\\n            <div class=\"col-md-2\">\\n                <div class=\"row\">\\n\\n                    <div class=\"col-2\">\\n                        <img id=\"phone-icon\" src=\"/static/image/map.png\">\\n                    </div>\\n\\n                    <div class=\"col-10\">\\n                        <p>Dubai, UAE Sobha Hartland Nad Al Shaba</p>\\n                    </div>\\n\\n                </div>\\n            </div>\\n\\n            <div class=\"col-md-2\"></div>\\n\\n        </div>\\n\\n        <hr>\\n\\n        <div class=\"row text-center\">\\n            <div class=\"col-1\"></div>\\n            <div class=\"col-10 text-center\">\\n                <div class=\"menu-container\">\\n                    <nav class=\"navbar navbar-expand-lg navbar-light bg-light\">\\n\\n                    <button class=\"navbar-toggler\" type=\"button\" data-toggle=\"collapse\" data-target=\"#navbarNavAltMarkup\" aria-controls=\"navbarNavAltMarkup\" aria-expanded=\"false\" aria-label=\"Toggle navigation\">\\n                        <span class=\"navbar-toggler-icon\"></span>\\n                    </button>\\n\\n                    <div class=\"collapse navbar-collapse\" id=\"navbarNavAltMarkup\">\\n                        <div class=\"navbar-nav\">\\n                            <a class=\"nav-link\" href=\"/\">HOME</a>\\n                            <a class=\"nav-link\" href=\"/ABOUT-US\">ABOUT US</a>\\n                            <a class=\"nav-link\" href=\"/OUR-SERVICES\">OUR SERVICES</a>\\n                        </div>\\n                    </div>\\n                </nav>\\n                </div>\\n            </div>\\n            <div class=\"col-1\"></div>\\n\\n        </div>\\n\\n        <hr>\\n\\n        <div class=\"row\">\\n            <div class=\"col-12\">\\n                <div id=\"mySlider\" class=\"carousel slide\" data-ride=\"carousel\">\\n                    <!-- Indicators -->\\n                    <ul class=\"carousel-indicators\">\\n                        <li data-target=\"#mySlider\" data-slide-to=\"0\" class=\"active\"></li>\\n                        <li data-target=\"#mySlider\" data-slide-to=\"1\"></li>\\n                        <li data-target=\"#mySlider\" data-slide-to=\"2\"></li>\\n                        <li data-target=\"#mySlider\" data-slide-to=\"3\"></li>\\n                    </ul>\\n\\n                    <!-- Slides -->\\n                    <div class=\"carousel-inner\">\\n                        \\n    \\n        <div class=\"carousel-item active bd-container-inner-wrapper\">\\n            <img style=\"object-fit: cover;\" width=\"1829px\" height=\"445px\" src=\"/photos/slider/jpeg-optimizer_04.jpeg\" alt=\"Image 1\">\\n        </div>\\n    \\n        <div class=\"carousel-item  bd-container-inner-wrapper\">\\n            <img style=\"object-fit: cover;\" width=\"1829px\" height=\"445px\" src=\"/photos/slider/jpeg-optimizer_01_kAODmh9.jpeg\" alt=\"Image 1\">\\n        </div>\\n    \\n        <div class=\"carousel-item  bd-container-inner-wrapper\">\\n            <img style=\"object-fit: cover;\" width=\"1829px\" height=\"445px\" src=\"/photos/slider/jpeg-optimizer_02_sph4u6O.jpeg\" alt=\"Image 1\">\\n        </div>\\n    \\n        <div class=\"carousel-item  bd-container-inner-wrapper\">\\n            <img style=\"object-fit: cover;\" width=\"1829px\" height=\"445px\" src=\"/photos/slider/jpeg-optimizer_03_p4zAERy.jpeg\" alt=\"Image 1\">\\n        </div>\\n    \\n\\n                    </div>\\n\\n                    <!-- Controls -->\\n                    <a class=\"carousel-control-prev\" href=\"#mySlider\" role=\"button\" data-slide=\"prev\">\\n                        <span class=\"carousel-control-prev-icon\" aria-hidden=\"true\"></span>\\n                        <span class=\"sr-only\">Previous</span>\\n                    </a>\\n\\n                    <a class=\"carousel-control-next\" href=\"#mySlider\" role=\"button\" data-slide=\"next\">\\n                        <span class=\"carousel-control-next-icon\" aria-hidden=\"true\"></span>\\n                        <span class=\"sr-only\">Next</span>\\n                    </a>\\n                </div>\\n            </div>\\n        </div>\\n\\n        <br>\\n\\n        \\n\\n    <div class=\"row\">\\n        <div class=\"col-md-2\"></div>\\n\\n        <div class=\"col-md-2\">\\n            <div class=\"row\">\\n                <div class=\"col-12\">\\n                    <p id=\"contact-us-header\">CONTACT US!</p>\\n                </div>\\n            </div>\\n\\n            <div class=\"row text-center\">\\n                <div class=\"col-12\">\\n                    <div class=\"contact-us-box\">\\n\\n                        <form method=\"post\" action=\"/\">\\n                            <input type=\"hidden\" name=\"csrfmiddlewaretoken\" value=\"uKokd6WdRiNhzk8ckJBFDSm2RKLsLV4m3wdnUYhy4w0IFQkWRup6eo3DV37Atf7y\">\\n\\n                            <input type=\"text\" name=\"name\" class=\"form-control\" placeholder=\"Name\" required=\"\" id=\"id_name\">\\n                            \\n\\n                            <br>\\n\\n                            <input type=\"email\" name=\"email\" class=\"form-control\" placeholder=\"Email\" maxlength=\"320\" required=\"\" id=\"id_email\">\\n                            \\n\\n                            <br>\\n                            <textarea name=\"message\" cols=\"40\" rows=\"10\" class=\"form-control\" placeholder=\"Plase include as much detail as possible.\" required=\"\" id=\"id_message\"></textarea>\\n                            \\n\\n\\n\\n                            <br>\\n\\n                            <button class=\"btn btn-secondary\" type=\"submit\">Send</button>\\n                        </form>\\n\\n                    </div>\\n                </div>\\n\\n            </div>\\n        </div>\\n\\n        <div class=\"col-md-6\">\\n\\n            <div id=\"main-box\">\\n\\n                <br>\\n\\n                \\n                    <h4 style=\"text-align: center;\">At Tasree . . .</h4>\\n                \\n\\n                <br>\\n\\n                \\n                    <p style=\"text-align: justify;\">At Tasree, Our innovative Paperless valet service is design to enhance guest services, increasing revenue for your business and promote sustainability-all while eliminating the waiting time.</p>\\n                \\n\\n                <br>\\n\\n                \\n\\n                <br>\\n\\n                \\n                    <p style=\"text-align: justify;\">committed for develirying Exceptional guest experiencing While prioritizing , we are delighted to serve you as best industry solution.</p>\\n                \\n\\n                <br>\\n\\n                \\n\\n                <br>\\n\\n                \\n                    <p style=\"text-align: justify;\">I love Tasree because their leaders are progressive, and they always want to satisfy my needs.</p>\\n                \\n\\n                <br>\\n\\n            </div>\\n        </div>\\n\\n        <div class=\"col-md-2\"></div>\\n\\n    </div>\\n\\n\\n\\n        <br>\\n\\n        <div class=\"row\">\\n            <div class=\"col-12\">\\n                <div id=\"footer\">\\n                    <p>tasree.ae</p>\\n\\n                </div>\\n            </div>\\n        </div>\\n\\n\\n    </div>\\n\\n    <script src=\"https://cdn.jsdelivr.net/npm/jquery@3.6.4/dist/jquery.slim.min.js\"></script>\\n    <script src=\"https://cdn.jsdelivr.net/npm/popper.js@1.16.1/dist/umd/popper.min.js\"></script>\\n    <script src=\"https://cdn.jsdelivr.net/npm/bootstrap@4.6.2/dist/js/bootstrap.bundle.min.js\"></script>\\n\\n    \\n\\n</body></html>'"
      ]
     },
     "execution_count": 32,
     "metadata": {},
     "output_type": "execute_result"
    }
   ],
   "source": [
    "source"
   ]
  },
  {
   "cell_type": "code",
   "execution_count": 35,
   "metadata": {},
   "outputs": [
    {
     "data": {
      "text/plain": [
       "[]"
      ]
     },
     "execution_count": 35,
     "metadata": {},
     "output_type": "execute_result"
    }
   ],
   "source": [
    "x = re.findall(\"<h1>(.*?)<\\/h1>\", source)\n",
    "x"
   ]
  }
 ],
 "metadata": {
  "kernelspec": {
   "display_name": "venv",
   "language": "python",
   "name": "python3"
  },
  "language_info": {
   "codemirror_mode": {
    "name": "ipython",
    "version": 3
   },
   "file_extension": ".py",
   "mimetype": "text/x-python",
   "name": "python",
   "nbconvert_exporter": "python",
   "pygments_lexer": "ipython3",
   "version": "3.10.12"
  }
 },
 "nbformat": 4,
 "nbformat_minor": 2
}
